{
 "cells": [
  {
   "cell_type": "markdown",
   "id": "6bcc053c",
   "metadata": {},
   "source": [
    "Bu makine öğrenmesi modelinde karar verme yapısı oluşturulurken flowchart'lar kullanılır. Bunda decision trees denir\n",
    "\n",
    "Supervised Learning konsepti kapsamındadır. Sonuçta bir tree oluşturur"
   ]
  },
  {
   "cell_type": "markdown",
   "id": "e5923bae",
   "metadata": {},
   "source": [
    "Örnek bir işe alım uygulaması yaparak kavrayalım"
   ]
  },
  {
   "cell_type": "code",
   "execution_count": 6,
   "id": "cefb5b2a",
   "metadata": {},
   "outputs": [
    {
     "data": {
      "text/html": [
       "<div>\n",
       "<style scoped>\n",
       "    .dataframe tbody tr th:only-of-type {\n",
       "        vertical-align: middle;\n",
       "    }\n",
       "\n",
       "    .dataframe tbody tr th {\n",
       "        vertical-align: top;\n",
       "    }\n",
       "\n",
       "    .dataframe thead th {\n",
       "        text-align: right;\n",
       "    }\n",
       "</style>\n",
       "<table border=\"1\" class=\"dataframe\">\n",
       "  <thead>\n",
       "    <tr style=\"text-align: right;\">\n",
       "      <th></th>\n",
       "      <th>Deneyim Yili</th>\n",
       "      <th>SuanCalisiyor?</th>\n",
       "      <th>Eski Calistigi Firmalar</th>\n",
       "      <th>Egitim Seviyesi</th>\n",
       "      <th>Top10 Universite?</th>\n",
       "      <th>StajBizdeYaptimi?</th>\n",
       "      <th>IseAlindi</th>\n",
       "    </tr>\n",
       "  </thead>\n",
       "  <tbody>\n",
       "    <tr>\n",
       "      <th>0</th>\n",
       "      <td>11</td>\n",
       "      <td>Y</td>\n",
       "      <td>4</td>\n",
       "      <td>BS</td>\n",
       "      <td>N</td>\n",
       "      <td>N</td>\n",
       "      <td>Y</td>\n",
       "    </tr>\n",
       "    <tr>\n",
       "      <th>1</th>\n",
       "      <td>0</td>\n",
       "      <td>N</td>\n",
       "      <td>0</td>\n",
       "      <td>PhD</td>\n",
       "      <td>Y</td>\n",
       "      <td>Y</td>\n",
       "      <td>Y</td>\n",
       "    </tr>\n",
       "    <tr>\n",
       "      <th>2</th>\n",
       "      <td>5</td>\n",
       "      <td>Y</td>\n",
       "      <td>2</td>\n",
       "      <td>MS</td>\n",
       "      <td>N</td>\n",
       "      <td>Y</td>\n",
       "      <td>Y</td>\n",
       "    </tr>\n",
       "    <tr>\n",
       "      <th>3</th>\n",
       "      <td>3</td>\n",
       "      <td>N</td>\n",
       "      <td>1</td>\n",
       "      <td>BS</td>\n",
       "      <td>N</td>\n",
       "      <td>Y</td>\n",
       "      <td>Y</td>\n",
       "    </tr>\n",
       "    <tr>\n",
       "      <th>4</th>\n",
       "      <td>0</td>\n",
       "      <td>N</td>\n",
       "      <td>0</td>\n",
       "      <td>BS</td>\n",
       "      <td>N</td>\n",
       "      <td>N</td>\n",
       "      <td>N</td>\n",
       "    </tr>\n",
       "  </tbody>\n",
       "</table>\n",
       "</div>"
      ],
      "text/plain": [
       "   Deneyim Yili SuanCalisiyor?  Eski Calistigi Firmalar Egitim Seviyesi  \\\n",
       "0            11              Y                        4              BS   \n",
       "1             0              N                        0             PhD   \n",
       "2             5              Y                        2              MS   \n",
       "3             3              N                        1              BS   \n",
       "4             0              N                        0              BS   \n",
       "\n",
       "  Top10 Universite? StajBizdeYaptimi? IseAlindi  \n",
       "0                 N                 N         Y  \n",
       "1                 Y                 Y         Y  \n",
       "2                 N                 Y         Y  \n",
       "3                 N                 Y         Y  \n",
       "4                 N                 N         N  "
      ]
     },
     "execution_count": 6,
     "metadata": {},
     "output_type": "execute_result"
    }
   ],
   "source": [
    "import pandas as pd\n",
    "import numpy as np\n",
    "from sklearn import tree\n",
    "\n",
    "df=pd.read_csv(\"DecisionTreesClassificationDataSet.csv\")\n",
    "df.head()"
   ]
  },
  {
   "cell_type": "markdown",
   "id": "6ab5fcf0",
   "metadata": {},
   "source": [
    "* scikit-learn kütüphanesi decision tree'lerin düzgün çalışması için her şeyin rakamsal olmasını bekliyor bu nedenler verisetimizdeki tüm y ve n değerleri 0 ve 1 olarak düzeltiyoruz. aynı sebeple eğitim seviyesini de bs=0,ms=1 ve phd:2 olark güncelliyoruz. map() fonksiyonu kullanarak boş hücreler veya geçersiz değer girilen hücreler NaN ile doldurulucaki buna şuandaki verisetimizde ihtiyacımız yok ama ilerde yoğun veri ile çalışınca ihtiyac olabilir"
   ]
  },
  {
   "cell_type": "code",
   "execution_count": 7,
   "id": "d62d7001",
   "metadata": {},
   "outputs": [
    {
     "data": {
      "text/html": [
       "<div>\n",
       "<style scoped>\n",
       "    .dataframe tbody tr th:only-of-type {\n",
       "        vertical-align: middle;\n",
       "    }\n",
       "\n",
       "    .dataframe tbody tr th {\n",
       "        vertical-align: top;\n",
       "    }\n",
       "\n",
       "    .dataframe thead th {\n",
       "        text-align: right;\n",
       "    }\n",
       "</style>\n",
       "<table border=\"1\" class=\"dataframe\">\n",
       "  <thead>\n",
       "    <tr style=\"text-align: right;\">\n",
       "      <th></th>\n",
       "      <th>Deneyim Yili</th>\n",
       "      <th>SuanCalisiyor?</th>\n",
       "      <th>Eski Calistigi Firmalar</th>\n",
       "      <th>Egitim Seviyesi</th>\n",
       "      <th>Top10 Universite?</th>\n",
       "      <th>StajBizdeYaptimi?</th>\n",
       "      <th>IseAlindi</th>\n",
       "    </tr>\n",
       "  </thead>\n",
       "  <tbody>\n",
       "    <tr>\n",
       "      <th>0</th>\n",
       "      <td>11</td>\n",
       "      <td>1</td>\n",
       "      <td>4</td>\n",
       "      <td>0</td>\n",
       "      <td>0</td>\n",
       "      <td>0</td>\n",
       "      <td>1</td>\n",
       "    </tr>\n",
       "    <tr>\n",
       "      <th>1</th>\n",
       "      <td>0</td>\n",
       "      <td>0</td>\n",
       "      <td>0</td>\n",
       "      <td>2</td>\n",
       "      <td>1</td>\n",
       "      <td>1</td>\n",
       "      <td>1</td>\n",
       "    </tr>\n",
       "    <tr>\n",
       "      <th>2</th>\n",
       "      <td>5</td>\n",
       "      <td>1</td>\n",
       "      <td>2</td>\n",
       "      <td>1</td>\n",
       "      <td>0</td>\n",
       "      <td>1</td>\n",
       "      <td>1</td>\n",
       "    </tr>\n",
       "    <tr>\n",
       "      <th>3</th>\n",
       "      <td>3</td>\n",
       "      <td>0</td>\n",
       "      <td>1</td>\n",
       "      <td>0</td>\n",
       "      <td>0</td>\n",
       "      <td>1</td>\n",
       "      <td>1</td>\n",
       "    </tr>\n",
       "    <tr>\n",
       "      <th>4</th>\n",
       "      <td>0</td>\n",
       "      <td>0</td>\n",
       "      <td>0</td>\n",
       "      <td>0</td>\n",
       "      <td>0</td>\n",
       "      <td>0</td>\n",
       "      <td>0</td>\n",
       "    </tr>\n",
       "  </tbody>\n",
       "</table>\n",
       "</div>"
      ],
      "text/plain": [
       "   Deneyim Yili  SuanCalisiyor?  Eski Calistigi Firmalar  Egitim Seviyesi  \\\n",
       "0            11               1                        4                0   \n",
       "1             0               0                        0                2   \n",
       "2             5               1                        2                1   \n",
       "3             3               0                        1                0   \n",
       "4             0               0                        0                0   \n",
       "\n",
       "   Top10 Universite?  StajBizdeYaptimi?  IseAlindi  \n",
       "0                  0                  0          1  \n",
       "1                  1                  1          1  \n",
       "2                  0                  1          1  \n",
       "3                  0                  1          1  \n",
       "4                  0                  0          0  "
      ]
     },
     "execution_count": 7,
     "metadata": {},
     "output_type": "execute_result"
    }
   ],
   "source": [
    "# düzeltmeleri yapalım\n",
    "duzeltme_mapping = { 'Y':1 , 'N':0}\n",
    "duzeltme_mapping_egitim= {\"BS\":0, \"MS\":1, \"PhD\":2}\n",
    "\n",
    "df.IseAlindi = df.IseAlindi.map(duzeltme_mapping)\n",
    "df[\"SuanCalisiyor?\"]=df[\"SuanCalisiyor?\"].map(duzeltme_mapping)\n",
    "df[\"Top10 Universite?\"]=df[\"Top10 Universite?\"].map(duzeltme_mapping)\n",
    "df[\"StajBizdeYaptimi?\"]=df[\"StajBizdeYaptimi?\"].map(duzeltme_mapping)\n",
    "df[\"Egitim Seviyesi\"]=df[\"Egitim Seviyesi\"].map(duzeltme_mapping_egitim)\n",
    "df.head()"
   ]
  },
  {
   "cell_type": "markdown",
   "id": "a6d7e18d",
   "metadata": {},
   "source": [
    "* sonuç sütununu ayırıyoruz:"
   ]
  },
  {
   "cell_type": "code",
   "execution_count": 8,
   "id": "1d6568ac",
   "metadata": {},
   "outputs": [],
   "source": [
    "y=df[\"IseAlindi\"]\n",
    "X=df.drop([\"IseAlindi\"],axis=1)"
   ]
  },
  {
   "cell_type": "markdown",
   "id": "248bbaad",
   "metadata": {},
   "source": [
    "* Decision Tree'imizi oluşturuyoruz:"
   ]
  },
  {
   "cell_type": "code",
   "execution_count": 9,
   "id": "831ca01d",
   "metadata": {},
   "outputs": [],
   "source": [
    "clf=tree.DecisionTreeClassifier()\n",
    "clf=clf.fit(X,y)"
   ]
  },
  {
   "cell_type": "code",
   "execution_count": 10,
   "id": "b137b08b",
   "metadata": {},
   "outputs": [
    {
     "name": "stdout",
     "output_type": "stream",
     "text": [
      "[1]\n"
     ]
    },
    {
     "name": "stderr",
     "output_type": "stream",
     "text": [
      "C:\\Users\\90541\\anaconda3\\lib\\site-packages\\sklearn\\base.py:464: UserWarning: X does not have valid feature names, but DecisionTreeClassifier was fitted with feature names\n",
      "  warnings.warn(\n"
     ]
    }
   ],
   "source": [
    "# Prediction yapalım şimdi\n",
    "# 5 yıl deneyimli, halihazırda bir yerde çalışan ve 3 eski şirkette çalışmış olan, eğitim seviyesi lisans\n",
    "# top10 ünide okumadı\n",
    "# stajı bizim şirkette yapmadı \n",
    "print(clf.predict([[5,1,3,0,0,0]]))"
   ]
  },
  {
   "cell_type": "code",
   "execution_count": 13,
   "id": "26db3a72",
   "metadata": {},
   "outputs": [
    {
     "name": "stdout",
     "output_type": "stream",
     "text": [
      "[0]\n"
     ]
    },
    {
     "name": "stderr",
     "output_type": "stream",
     "text": [
      "C:\\Users\\90541\\anaconda3\\lib\\site-packages\\sklearn\\base.py:464: UserWarning: X does not have valid feature names, but DecisionTreeClassifier was fitted with feature names\n",
      "  warnings.warn(\n"
     ]
    }
   ],
   "source": [
    "# toplam 2 yıllık iş deneyimi 7 kez iş değiştirmiş çok iyi bir okul mezunu değil şuan çalışmıyor\n",
    "print(clf.predict([[2,0,7,0,1,0]]))"
   ]
  },
  {
   "cell_type": "code",
   "execution_count": 14,
   "id": "842d871a",
   "metadata": {},
   "outputs": [
    {
     "name": "stdout",
     "output_type": "stream",
     "text": [
      "[1]\n"
     ]
    },
    {
     "name": "stderr",
     "output_type": "stream",
     "text": [
      "C:\\Users\\90541\\anaconda3\\lib\\site-packages\\sklearn\\base.py:464: UserWarning: X does not have valid feature names, but DecisionTreeClassifier was fitted with feature names\n",
      "  warnings.warn(\n"
     ]
    }
   ],
   "source": [
    "print(clf.predict([[2,1,7,0,0,0]]))"
   ]
  },
  {
   "cell_type": "code",
   "execution_count": 15,
   "id": "4f2d33ce",
   "metadata": {},
   "outputs": [
    {
     "name": "stdout",
     "output_type": "stream",
     "text": [
      "[1]\n"
     ]
    },
    {
     "name": "stderr",
     "output_type": "stream",
     "text": [
      "C:\\Users\\90541\\anaconda3\\lib\\site-packages\\sklearn\\base.py:464: UserWarning: X does not have valid feature names, but DecisionTreeClassifier was fitted with feature names\n",
      "  warnings.warn(\n"
     ]
    }
   ],
   "source": [
    "print(clf.predict([[20,0,5,1,1,1]]))"
   ]
  },
  {
   "cell_type": "code",
   "execution_count": null,
   "id": "33f430af",
   "metadata": {},
   "outputs": [],
   "source": []
  }
 ],
 "metadata": {
  "kernelspec": {
   "display_name": "Python 3 (ipykernel)",
   "language": "python",
   "name": "python3"
  },
  "language_info": {
   "codemirror_mode": {
    "name": "ipython",
    "version": 3
   },
   "file_extension": ".py",
   "mimetype": "text/x-python",
   "name": "python",
   "nbconvert_exporter": "python",
   "pygments_lexer": "ipython3",
   "version": "3.10.13"
  }
 },
 "nbformat": 4,
 "nbformat_minor": 5
}
