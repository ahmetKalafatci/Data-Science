{
 "cells": [
  {
   "cell_type": "markdown",
   "id": "8e3f8432",
   "metadata": {},
   "source": [
    "* Çok fazla sayıdaki ham veriyi gruplara ayırmak için kullanılır\n",
    "\n",
    "* Yapay zekaya yardımcı olmuyoruz yani biz önceden sınıflandırma yapmıyoruz o bizim için sınfılandırma yapıyor ve be unsupervised learning model grubuna girer\n",
    "\n",
    "* Bu işlemi yaparken centroid sistemini kullanır(yuvarlak şekiller)\n",
    "\n",
    "* K-Means kelimesindeki k-> k adet centroidi ifade eder (k adet gruba böl demektir knn ile karıştırma)\n"
   ]
  },
  {
   "cell_type": "markdown",
   "id": "52459076",
   "metadata": {},
   "source": [
    "#### nasıl çalşır ?\n",
    "\n",
    "* 1- k adet centroid (merkez nokta) seçilir.(bu noktalar random seçilir)\n",
    "\n",
    "* 2- her veriyi(noktayı) kendisine en yakın centroid grubuna dahil eder\n",
    "\n",
    "* 3- her centroidin ağırlık merkezini kendi grubundaki noktalara bakarak tekrar hesaplar ve centroidi yeni merkez lokasyonuna koyar\n",
    "\n",
    "* 4- 2. ve 3. adımı centroidler artık yer değiştirmeyene kadar devam ettirir.\n",
    "\n",
    "* 5- artık centroidlerin merkezi değişmemektedir, bu durumda gruplamayı bitirir"
   ]
  },
  {
   "cell_type": "markdown",
   "id": "03271027",
   "metadata": {},
   "source": [
    "#### en optimal k değeri ? \n",
    "\n",
    "* bu k adet noktanın mesafe formülü pisagorla bulunuyor\n",
    "\n",
    "* k değerini belirlerken elbow metodu kullanılır. k değerleri distortion değerleri ile birlikte grafiğe döktüğümüzde dirsek noktasında bulunan k değeri en optimal k değeri olarak kabul edilir"
   ]
  },
  {
   "cell_type": "markdown",
   "id": "59c2f3c4",
   "metadata": {},
   "source": [
    "#### k-means nerede kullanılır?\n",
    "\n",
    "* toplu verinizin olduğu ve gruplama yapmak istediğimiz ancak yapamadığımız her alanda kullanabiliriz\n",
    "\n",
    "* çok yoğun kullanılan bir algoritmadır\n",
    "\n",
    "* örneğin müşteri sınıflandırma alanında büyük şirketler tarafından yoğun bir şekilde kullanılmaktadır\n",
    "\n",
    "* amazonu düşünelim, milyonlarca müşteri var kimisi outlet ürün seviyor kimisi klasik giyim seviyor falan filan bu tarz sınıflandırma yapıyor (en basitinden). ve bu sınıflandırma sonrasında müşterinin giyim tarzını biliyor ona göre bir öneri sunuyor."
   ]
  },
  {
   "cell_type": "code",
   "execution_count": null,
   "id": "384ac660",
   "metadata": {},
   "outputs": [],
   "source": []
  }
 ],
 "metadata": {
  "kernelspec": {
   "display_name": "Python 3 (ipykernel)",
   "language": "python",
   "name": "python3"
  },
  "language_info": {
   "codemirror_mode": {
    "name": "ipython",
    "version": 3
   },
   "file_extension": ".py",
   "mimetype": "text/x-python",
   "name": "python",
   "nbconvert_exporter": "python",
   "pygments_lexer": "ipython3",
   "version": "3.10.13"
  }
 },
 "nbformat": 4,
 "nbformat_minor": 5
}
