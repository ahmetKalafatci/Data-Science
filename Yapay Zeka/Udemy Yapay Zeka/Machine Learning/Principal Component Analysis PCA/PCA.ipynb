{
 "cells": [
  {
   "cell_type": "markdown",
   "id": "88fd7209",
   "metadata": {},
   "source": [
    "PCA ile biz çok boyutlu(features) veri setlerini,verisetinin anlamını kaybetmeden daha az boyutlu bir hale getirmeyi amaçlarız\n",
    "\n",
    "#### Neden PCA yaparız?\n",
    "* Çok fazla boyutlu verisetlerini kolay görselleştirebilmek için\n",
    "    * İnsan gözüyle 2 veya 3 boyutlu verileri rahatça görebilir ve anlayabiliriz\n",
    "    \n",
    "* Verileri sıkıştırmak için PCA yaparız\n",
    "    * Mesela PCA kullanarak büyük boyuttaki dijital fotoğraf dosyalarını daha küçük formatla sıkışırma yapılabilir\n",
    "    \n",
    "* PCA yapılırken eigenvektörler çıkarılır\n",
    "* Bu eigenvektörler daha sonra PCA 1.boyut ve PCA 2.boyur... PCA N. boyut şeklinde N boyuta indirgenir\n",
    "    * N=düşürülmek istenen boyut sayısı\n",
    "\n",
    "* Bu işlemler yapılırken varyans %90'dan fazla bir orada korunmaya çalışır. Yani minimum kayıp gerçekleşir\n",
    "\n",
    "#### Nerelerde kullanılır?\n",
    "* Veri sıkıştırma\n",
    "* Yüz tanıma algoritmaları çalıştırılmadan önce bu işlem yapılarak insan yüzüne ait sadece belirgin özellikler elde edilir\n",
    "* Fotoğraf sıkıştırma"
   ]
  },
  {
   "cell_type": "code",
   "execution_count": null,
   "id": "a9ff47ad",
   "metadata": {},
   "outputs": [],
   "source": []
  }
 ],
 "metadata": {
  "kernelspec": {
   "display_name": "Python 3 (ipykernel)",
   "language": "python",
   "name": "python3"
  },
  "language_info": {
   "codemirror_mode": {
    "name": "ipython",
    "version": 3
   },
   "file_extension": ".py",
   "mimetype": "text/x-python",
   "name": "python",
   "nbconvert_exporter": "python",
   "pygments_lexer": "ipython3",
   "version": "3.10.13"
  }
 },
 "nbformat": 4,
 "nbformat_minor": 5
}
