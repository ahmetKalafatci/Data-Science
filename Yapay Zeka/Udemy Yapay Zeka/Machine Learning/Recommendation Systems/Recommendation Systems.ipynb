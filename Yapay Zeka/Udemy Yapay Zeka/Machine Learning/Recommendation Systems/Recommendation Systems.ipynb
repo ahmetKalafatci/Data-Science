{
 "cells": [
  {
   "cell_type": "markdown",
   "id": "8efcf131",
   "metadata": {},
   "source": [
    "Recommandation Sistemler yabancı sitelerde çok ve yoğun kullanılır\n",
    "\n",
    "Şirketlerin gelirlerini arttırdığı söylenir\n",
    "\n",
    "Türkiyede batıdaki kadar yaygın değil \n",
    "\n",
    "Örneğin bir film izledikten sonra altta mesaj gelir. bu filmi beğendiyseniz başka bir film önerip bu filmi de beğenebilirsiniz tarzı bir tavsiye sunulmasıdır.\n"
   ]
  },
  {
   "cell_type": "markdown",
   "id": "f0df3499",
   "metadata": {},
   "source": [
    "\n",
    "Temelinde 2 algoritma yatar ;\n",
    "1- User-Based Collaborative Filtering\n",
    "2- Item-Based Collaborative Filtering\n",
    "\n",
    "#### User-Based\n",
    "    \n",
    "    *** Kullanıcılar arasındaki benzerlik skorlarını bulmaya çalışır\n",
    "    \n",
    "    * Her bir kullanıcının satın aldığı veya izlediği/dinlediği materyali kullanıcı bazlı tutar ve bir matrise dönüştürür\n",
    "    \n",
    "    * Bir kullanıcıya(x) benzer başka kullanıcılar bulur"
   ]
  },
  {
   "cell_type": "markdown",
   "id": "829ccb58",
   "metadata": {},
   "source": [
    "Örneğin;\n",
    "1. kullanıcı spiderman 1 ve spiderman 2 yi izlemiş olsun\n",
    "2. kullanıcı sadece spiderman 1 i izlemiş olsun\n",
    "\n",
    "Yapay zekamız kullanıcı arasında benzerlik kurarak 2. kullanıcıya spiderman 2 filmini öneriyor"
   ]
  },
  {
   "cell_type": "markdown",
   "id": "e1c8eeac",
   "metadata": {},
   "source": [
    "Dezavantajları\n",
    "\n",
    "* Kullanıcı bazlı olduğu için maliyetlidir. insan sayısı film sayısından fazladır\n",
    "\n",
    "* İnsanların zevkleri değişebilir bugün sevdiğiniz filmi yarın sevmeyebilirsiniz"
   ]
  },
  {
   "cell_type": "markdown",
   "id": "db4cbc5f",
   "metadata": {},
   "source": [
    "#### Item-Based\n",
    "\n",
    "* User-Based'deki sıkıntıları aşmak için bu metod geliştirilmiş ve kullanılmaktadır\n",
    "* Kullanıcılar yerine Item'ları baz alır. Item'lar örneğin netflixte filmdir, spotifyda müziktir vs.\n",
    "* Birbirine benzeten Item'lar bulur\n",
    "* Bizim film örneğimizde de eğer filmleri seven ortak kişiler varsa demek ki bu filmler birbirine benzer diye düşünür ve bu filmlerin birbirine benzerlik skorlarını yüksek olarak belirler\n",
    "* Daha sonra siz bir film izlediğinizde o film için benzerlik skoru en yüksek olan filmleri size izlemeniz için önerir\n",
    "* Biz Item-Based kullanarak devam edicez\n"
   ]
  },
  {
   "cell_type": "markdown",
   "id": "af5b5bec",
   "metadata": {},
   "source": [
    "Örneğin;\n",
    "1. kullanıcı spiderman 1 ve spiderman 2 yi izlemiş olsun\n",
    "2. kullanıcı da spiderman 1 ve spiderman 2 yi izlemiş olsun\n",
    "3. kullanıcımız spiderman 2 yi izliyor bir ffilm daha izlmeke istiyor.\n",
    "\n",
    "Yapay zekamız diyor ki: her iki filmi beğenenler aynı demekki bu iki film birbirine benzer o halde bunlardan birini izleyip diğerini izlemeyen birine onu öneriyim"
   ]
  },
  {
   "cell_type": "code",
   "execution_count": null,
   "id": "178cb8b0",
   "metadata": {},
   "outputs": [],
   "source": []
  }
 ],
 "metadata": {
  "kernelspec": {
   "display_name": "Python 3 (ipykernel)",
   "language": "python",
   "name": "python3"
  },
  "language_info": {
   "codemirror_mode": {
    "name": "ipython",
    "version": 3
   },
   "file_extension": ".py",
   "mimetype": "text/x-python",
   "name": "python",
   "nbconvert_exporter": "python",
   "pygments_lexer": "ipython3",
   "version": "3.10.13"
  }
 },
 "nbformat": 4,
 "nbformat_minor": 5
}
