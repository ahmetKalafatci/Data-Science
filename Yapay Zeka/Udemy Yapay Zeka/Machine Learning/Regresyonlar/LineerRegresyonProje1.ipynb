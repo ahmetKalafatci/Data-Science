{
 "cells": [
  {
   "cell_type": "markdown",
   "id": "00f8a574",
   "metadata": {},
   "source": [
    "* genel olarak bir makine öğrenmesi metodu tahminde bulunmak için çıktı üretir\n",
    "* bu çıktı kategorik ise classfication(sınıflandırma) denir\n",
    "* eğer çıktı nümerik ise regression(regresyon) denir\n",
    "* benzer gözlemleri aynı kümelere atma işlemine ise clustering(kümeleme) denir"
   ]
  },
  {
   "cell_type": "markdown",
   "id": "6b684e51",
   "metadata": {},
   "source": [
    "* lineer regresyon tek değerli olarak yapılan doğrusal regresyon analizidir\n",
    "* linear regression hesaplaması aslında y=a+bx denkleminde a ve b sayılarının hesaplanmasıdır\n",
    "* biz pythona örek verisetimizi verdiğimizde python bizim için a ve b değerlerini hesaplar ve yeni x değerlerimizi için y'yi bize hesaplayıp sonuç olarak verir"
   ]
  },
  {
   "cell_type": "markdown",
   "id": "d1d78a3a",
   "metadata": {},
   "source": [
    "* kabaca linear regression veriler arasında var olan korelasyonu(ilişkiyi) kullanarak yeni gelecek verileri tahmin etme modelidir. burada makine öğrenimi bize veriler arasındaki bu ilişkiyi belirlememize yardımcı olur ve bu sayede yeni verileri tahmin edebiliriz"
   ]
  },
  {
   "cell_type": "code",
   "execution_count": 10,
   "id": "01c7be13",
   "metadata": {},
   "outputs": [
    {
     "data": {
      "text/html": [
       "<div>\n",
       "<style scoped>\n",
       "    .dataframe tbody tr th:only-of-type {\n",
       "        vertical-align: middle;\n",
       "    }\n",
       "\n",
       "    .dataframe tbody tr th {\n",
       "        vertical-align: top;\n",
       "    }\n",
       "\n",
       "    .dataframe thead th {\n",
       "        text-align: right;\n",
       "    }\n",
       "</style>\n",
       "<table border=\"1\" class=\"dataframe\">\n",
       "  <thead>\n",
       "    <tr style=\"text-align: right;\">\n",
       "      <th></th>\n",
       "      <th>alan</th>\n",
       "      <th>fiyat</th>\n",
       "    </tr>\n",
       "  </thead>\n",
       "  <tbody>\n",
       "    <tr>\n",
       "      <th>0</th>\n",
       "      <td>180</td>\n",
       "      <td>495000</td>\n",
       "    </tr>\n",
       "    <tr>\n",
       "      <th>1</th>\n",
       "      <td>225</td>\n",
       "      <td>525000</td>\n",
       "    </tr>\n",
       "    <tr>\n",
       "      <th>2</th>\n",
       "      <td>260</td>\n",
       "      <td>550000</td>\n",
       "    </tr>\n",
       "    <tr>\n",
       "      <th>3</th>\n",
       "      <td>320</td>\n",
       "      <td>610000</td>\n",
       "    </tr>\n",
       "    <tr>\n",
       "      <th>4</th>\n",
       "      <td>335</td>\n",
       "      <td>625000</td>\n",
       "    </tr>\n",
       "    <tr>\n",
       "      <th>5</th>\n",
       "      <td>345</td>\n",
       "      <td>632000</td>\n",
       "    </tr>\n",
       "    <tr>\n",
       "      <th>6</th>\n",
       "      <td>355</td>\n",
       "      <td>680000</td>\n",
       "    </tr>\n",
       "    <tr>\n",
       "      <th>7</th>\n",
       "      <td>400</td>\n",
       "      <td>725000</td>\n",
       "    </tr>\n",
       "  </tbody>\n",
       "</table>\n",
       "</div>"
      ],
      "text/plain": [
       "   alan   fiyat\n",
       "0   180  495000\n",
       "1   225  525000\n",
       "2   260  550000\n",
       "3   320  610000\n",
       "4   335  625000\n",
       "5   345  632000\n",
       "6   355  680000\n",
       "7   400  725000"
      ]
     },
     "execution_count": 10,
     "metadata": {},
     "output_type": "execute_result"
    }
   ],
   "source": [
    "import pandas as pd\n",
    "import numpy as np\n",
    "import matplotlib.pyplot as plt\n",
    "from sklearn import linear_model\n",
    "#verisetimiz dışardan belge ile alınıyorsa df=pd.read_csv(\"dosya_adı\",sep=\";\") şeklinde çekilir\n",
    "dataset={\n",
    "    \"alan\":[180,225,260,320,335,345,355,400],\n",
    "    \"fiyat\":[495000,525000,550000,610000,625000,632000,680000,725000]\n",
    "}\n",
    "df=pd.DataFrame(dataset)\n",
    "df"
   ]
  },
  {
   "cell_type": "markdown",
   "id": "421b6f89",
   "metadata": {},
   "source": [
    "###### bir emlakçı 275 m2 bir ev satılık ilanı verecek ancak geçmiş aylarda aynı muhitteki satılmış ev fiyatlarına göre en doğru fiyat ne olabilir ?"
   ]
  },
  {
   "cell_type": "code",
   "execution_count": 17,
   "id": "86d90b0e",
   "metadata": {},
   "outputs": [
    {
     "data": {
      "text/plain": [
       "<matplotlib.collections.PathCollection at 0x28290ac7df0>"
      ]
     },
     "execution_count": 17,
     "metadata": {},
     "output_type": "execute_result"
    },
    {
     "data": {
      "image/png": "[encoded data removed]",
      "text/plain": [
       "<Figure size 640x480 with 1 Axes>"
      ]
     },
     "metadata": {},
     "output_type": "display_data"
    }
   ],
   "source": [
    "plt.xlabel(\"alan\")\n",
    "plt.ylabel(\"fiyat\")\n",
    "plt.scatter(df.alan,df.fiyat,color=\"red\",marker=\"+\") #scatter diyerek elimizdeki alan ve fiyat bilgilerini görmek istiyoruz\n"
   ]
  },
  {
   "cell_type": "code",
   "execution_count": 15,
   "id": "752a758e",
   "metadata": {},
   "outputs": [
    {
     "name": "stderr",
     "output_type": "stream",
     "text": [
      "C:\\Users\\90541\\anaconda3\\lib\\site-packages\\sklearn\\base.py:464: UserWarning: X does not have valid feature names, but LinearRegression was fitted with feature names\n",
      "  warnings.warn(\n"
     ]
    },
    {
     "data": {
      "text/plain": [
       "array([576826.14379085])"
      ]
     },
     "execution_count": 15,
     "metadata": {},
     "output_type": "execute_result"
    }
   ],
   "source": [
    "reg=linear_model.LinearRegression() #tahmin modelini oluşturduk\n",
    "reg.fit(df[['alan']],df['fiyat']) #reg.fit diyerek modelin içine verilerimizi iletiyoruz\n",
    "#reg.fit içinde soldaki verimiz x verisidir ve bağımsız değişkendir. bağımsız değişken sayısı;\n",
    "#birden fazla olabilir o yüzden iki boyutlu array gibi tutmamız gerek\n",
    "reg.predict([[275]]) #2 tane köşlei par. olmasının sebebi predict fonksiyonu iki boyutlu bir dizi veya dataframe bekler\n",
    "#predict ile tahmin ettiriyoruz"
   ]
  },
  {
   "cell_type": "markdown",
   "id": "4ee9b23b",
   "metadata": {},
   "source": [
    "* önceki fiyatlara bakıp 275 mt2 lik alan için önerebileceği en iyi sayı buymuş. tahminimizi yaptık"
   ]
  },
  {
   "cell_type": "markdown",
   "id": "3860020b",
   "metadata": {},
   "source": [
    "* bu işlem aslında y=a+bx sonucunda dönmüşütür ve biz a ve b değerlerimizi ulabiliriz\n",
    "* b değeri için reg.coef_ çalıştırılır\n",
    "* a değeri için reg.intercept_ çalıştırılır"
   ]
  },
  {
   "cell_type": "code",
   "execution_count": 18,
   "id": "28fc64b1",
   "metadata": {},
   "outputs": [
    {
     "data": {
      "text/plain": [
       "array([1033.59477124])"
      ]
     },
     "execution_count": 18,
     "metadata": {},
     "output_type": "execute_result"
    }
   ],
   "source": [
    "reg.coef_"
   ]
  },
  {
   "cell_type": "code",
   "execution_count": 19,
   "id": "863f400c",
   "metadata": {},
   "outputs": [
    {
     "data": {
      "text/plain": [
       "292587.5816993463"
      ]
     },
     "execution_count": 19,
     "metadata": {},
     "output_type": "execute_result"
    }
   ],
   "source": [
    "reg.intercept_"
   ]
  },
  {
   "cell_type": "markdown",
   "id": "00165abc",
   "metadata": {},
   "source": [
    "* sağlamasını yaparsak;"
   ]
  },
  {
   "cell_type": "code",
   "execution_count": 20,
   "id": "50e1e490",
   "metadata": {},
   "outputs": [
    {
     "data": {
      "text/plain": [
       "array([576826.14379085])"
      ]
     },
     "execution_count": 20,
     "metadata": {},
     "output_type": "execute_result"
    }
   ],
   "source": [
    "a=reg.intercept_\n",
    "b=reg.coef_\n",
    "x=275\n",
    "y=a+(b*x)\n",
    "y"
   ]
  },
  {
   "cell_type": "markdown",
   "id": "546f09d4",
   "metadata": {},
   "source": [
    "* aynı değeri döndürdüğünü görebiliriz"
   ]
  },
  {
   "cell_type": "code",
   "execution_count": 23,
   "id": "bdfc0461",
   "metadata": {},
   "outputs": [
    {
     "data": {
      "text/plain": [
       "[<matplotlib.lines.Line2D at 0x2829229b640>]"
      ]
     },
     "execution_count": 23,
     "metadata": {},
     "output_type": "execute_result"
    },
    {
     "data": {
      "image/png": "[encoded data removed]",
      "text/plain": [
       "<Figure size 640x480 with 1 Axes>"
      ]
     },
     "metadata": {},
     "output_type": "display_data"
    }
   ],
   "source": [
    "plt.xlabel(\"alan\",color=\"red\")\n",
    "plt.ylabel(\"fiyat\",color=\"red\")\n",
    "plt.title(\"Linear Regression\",color=\"red\")\n",
    "plt.scatter(df.alan,df.fiyat,color=\"red\",marker=\"+\")\n",
    "plt.plot(df.alan,reg.predict(df[[\"alan\"]]),color=\"blue\") #çizgi"
   ]
  },
  {
   "cell_type": "code",
   "execution_count": null,
   "id": "6e8e08d8",
   "metadata": {},
   "outputs": [],
   "source": []
  }
 ],
 "metadata": {
  "kernelspec": {
   "display_name": "Python 3 (ipykernel)",
   "language": "python",
   "name": "python3"
  },
  "language_info": {
   "codemirror_mode": {
    "name": "ipython",
    "version": 3
   },
   "file_extension": ".py",
   "mimetype": "text/x-python",
   "name": "python",
   "nbconvert_exporter": "python",
   "pygments_lexer": "ipython3",
   "version": "3.10.13"
  }
 },
 "nbformat": 4,
 "nbformat_minor": 5
}
