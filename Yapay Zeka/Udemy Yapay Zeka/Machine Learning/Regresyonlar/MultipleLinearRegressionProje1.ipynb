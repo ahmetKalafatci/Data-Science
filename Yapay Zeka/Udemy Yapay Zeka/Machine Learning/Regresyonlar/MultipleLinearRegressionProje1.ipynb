{
 "cells": [
  {
   "cell_type": "markdown",
   "id": "f93efbad",
   "metadata": {},
   "source": [
    "Multiple Linear Regression'da birden fazla bağımsız değişkene karşılık bir bağımlı değişken bulunur\n",
    "\n",
    "Linear Regression veriler arasında var olan korelasyonu(ilişkiyi) kullanarak yeni gelecek verileri tahmin etme modelidir. burada makine öğrenimi bize veriler arasındaki bu ilişkiyi belirlememize yardımcı olur ve bu sayede yeni verileri tahmin edebiliriz"
   ]
  },
  {
   "cell_type": "markdown",
   "id": "39cbe921",
   "metadata": {},
   "source": [
    "* y= a+b1x1+b2x2+b3x+... denklemindeki a ve b(i) sayılarının hesaplanmasıdır\n",
    "* pythona örnek veri setimizi verdiğimizde python bizim için a ve b(i) değerlerini hesaplar ve yeni x değerlerimizi için y'yi bize hesaplayıp sonuç olacak verecek fonksiyonu üretir"
   ]
  },
  {
   "cell_type": "code",
   "execution_count": 31,
   "id": "a710af3a",
   "metadata": {},
   "outputs": [
    {
     "data": {
      "text/html": [
       "<div>\n",
       "<style scoped>\n",
       "    .dataframe tbody tr th:only-of-type {\n",
       "        vertical-align: middle;\n",
       "    }\n",
       "\n",
       "    .dataframe tbody tr th {\n",
       "        vertical-align: top;\n",
       "    }\n",
       "\n",
       "    .dataframe thead th {\n",
       "        text-align: right;\n",
       "    }\n",
       "</style>\n",
       "<table border=\"1\" class=\"dataframe\">\n",
       "  <thead>\n",
       "    <tr style=\"text-align: right;\">\n",
       "      <th></th>\n",
       "      <th>alan</th>\n",
       "      <th>odasayisi</th>\n",
       "      <th>binayasi</th>\n",
       "      <th>fiyat</th>\n",
       "    </tr>\n",
       "  </thead>\n",
       "  <tbody>\n",
       "    <tr>\n",
       "      <th>0</th>\n",
       "      <td>180</td>\n",
       "      <td>5</td>\n",
       "      <td>10</td>\n",
       "      <td>515000</td>\n",
       "    </tr>\n",
       "    <tr>\n",
       "      <th>1</th>\n",
       "      <td>225</td>\n",
       "      <td>4</td>\n",
       "      <td>18</td>\n",
       "      <td>508000</td>\n",
       "    </tr>\n",
       "    <tr>\n",
       "      <th>2</th>\n",
       "      <td>260</td>\n",
       "      <td>3</td>\n",
       "      <td>2</td>\n",
       "      <td>548000</td>\n",
       "    </tr>\n",
       "    <tr>\n",
       "      <th>3</th>\n",
       "      <td>320</td>\n",
       "      <td>6</td>\n",
       "      <td>10</td>\n",
       "      <td>650000</td>\n",
       "    </tr>\n",
       "    <tr>\n",
       "      <th>4</th>\n",
       "      <td>335</td>\n",
       "      <td>4</td>\n",
       "      <td>9</td>\n",
       "      <td>628000</td>\n",
       "    </tr>\n",
       "    <tr>\n",
       "      <th>5</th>\n",
       "      <td>345</td>\n",
       "      <td>5</td>\n",
       "      <td>14</td>\n",
       "      <td>632000</td>\n",
       "    </tr>\n",
       "    <tr>\n",
       "      <th>6</th>\n",
       "      <td>355</td>\n",
       "      <td>3</td>\n",
       "      <td>0</td>\n",
       "      <td>680000</td>\n",
       "    </tr>\n",
       "    <tr>\n",
       "      <th>7</th>\n",
       "      <td>400</td>\n",
       "      <td>4</td>\n",
       "      <td>10</td>\n",
       "      <td>725000</td>\n",
       "    </tr>\n",
       "  </tbody>\n",
       "</table>\n",
       "</div>"
      ],
      "text/plain": [
       "   alan  odasayisi  binayasi   fiyat\n",
       "0   180          5        10  515000\n",
       "1   225          4        18  508000\n",
       "2   260          3         2  548000\n",
       "3   320          6        10  650000\n",
       "4   335          4         9  628000\n",
       "5   345          5        14  632000\n",
       "6   355          3         0  680000\n",
       "7   400          4        10  725000"
      ]
     },
     "execution_count": 31,
     "metadata": {},
     "output_type": "execute_result"
    }
   ],
   "source": [
    "import pandas as pd\n",
    "import matplotlib.pyplot as plt\n",
    "from sklearn import linear_model\n",
    "\n",
    "dataset={\n",
    "    \"alan\":[180,225,260,320,335,345,355,400],\n",
    "    \"odasayisi\":[5,4,3,6,4,5,3,4],\n",
    "    \"binayasi\":[10,18,2,10,9,14,0,10],\n",
    "    \"fiyat\":[515000,508000,548000,650000,628000,632000,680000,725000]\n",
    "}\n",
    "df=pd.DataFrame(dataset)\n",
    "df"
   ]
  },
  {
   "cell_type": "markdown",
   "id": "d4b3ae1b",
   "metadata": {},
   "source": [
    "#### aşağıdaki 3 adet konut için yapay zeka kullanarak tahmini satış fiyatını bulacağız.\n",
    "#### -1.konut: alan 230 m2 4oda bina yaşı:10\n",
    "#### -2.konut: alan 230 m2 6oda bina yaşı:0\n",
    "#### -3.konut: alan 355 m2 3oda bina yaşı:20"
   ]
  },
  {
   "cell_type": "code",
   "execution_count": 18,
   "id": "3874ad73",
   "metadata": {},
   "outputs": [
    {
     "name": "stderr",
     "output_type": "stream",
     "text": [
      "C:\\Users\\90541\\anaconda3\\lib\\site-packages\\sklearn\\base.py:464: UserWarning: X does not have valid feature names, but LinearRegression was fitted with feature names\n",
      "  warnings.warn(\n"
     ]
    },
    {
     "data": {
      "text/plain": [
       "array([531825.15244295])"
      ]
     },
     "execution_count": 18,
     "metadata": {},
     "output_type": "execute_result"
    }
   ],
   "source": [
    "reg=linear_model.LinearRegression() #nesnemizi oluşturduk\n",
    "reg.fit(df[[\"alan\",\"odasayisi\",\"binayasi\"]],df[\"fiyat\"]) #önce bağımsız değerleri verip sonra bağımlı değeri veriyoruz\n",
    "#fit ile öğretip y= a+b1x1+b2x2+b3x+... denklemi üzerindn hesaplatıyoruz\n",
    "#tahmin yapalım\n",
    "reg.predict([[230,4,10]])"
   ]
  },
  {
   "cell_type": "code",
   "execution_count": 19,
   "id": "082e6561",
   "metadata": {},
   "outputs": [
    {
     "name": "stderr",
     "output_type": "stream",
     "text": [
      "C:\\Users\\90541\\anaconda3\\lib\\site-packages\\sklearn\\base.py:464: UserWarning: X does not have valid feature names, but LinearRegression was fitted with feature names\n",
      "  warnings.warn(\n"
     ]
    },
    {
     "data": {
      "text/plain": [
       "array([590005.75210978])"
      ]
     },
     "execution_count": 19,
     "metadata": {},
     "output_type": "execute_result"
    }
   ],
   "source": [
    "reg.predict([[230,6,0]])"
   ]
  },
  {
   "cell_type": "code",
   "execution_count": 23,
   "id": "e6427523",
   "metadata": {},
   "outputs": [
    {
     "name": "stderr",
     "output_type": "stream",
     "text": [
      "C:\\Users\\90541\\anaconda3\\lib\\site-packages\\sklearn\\base.py:464: UserWarning: X does not have valid feature names, but LinearRegression was fitted with feature names\n",
      "  warnings.warn(\n"
     ]
    },
    {
     "data": {
      "text/plain": [
       "array([614506.40327617])"
      ]
     },
     "execution_count": 23,
     "metadata": {},
     "output_type": "execute_result"
    }
   ],
   "source": [
    "reg.predict([[355,3,20]])"
   ]
  },
  {
   "cell_type": "code",
   "execution_count": 25,
   "id": "88628013",
   "metadata": {},
   "outputs": [
    {
     "name": "stderr",
     "output_type": "stream",
     "text": [
      "C:\\Users\\90541\\anaconda3\\lib\\site-packages\\sklearn\\base.py:464: UserWarning: X does not have valid feature names, but LinearRegression was fitted with feature names\n",
      "  warnings.warn(\n"
     ]
    },
    {
     "data": {
      "text/plain": [
       "array([531825.15244295, 590005.75210978, 614506.40327617])"
      ]
     },
     "execution_count": 25,
     "metadata": {},
     "output_type": "execute_result"
    }
   ],
   "source": [
    "reg.predict([[230,4,10],[230,6,0],[355,3,20]]) # tek satırda da hesaplayabiliriz"
   ]
  },
  {
   "cell_type": "code",
   "execution_count": 29,
   "id": "f7d68959",
   "metadata": {},
   "outputs": [
    {
     "data": {
      "text/plain": [
       "531825.1524429523"
      ]
     },
     "execution_count": 29,
     "metadata": {},
     "output_type": "execute_result"
    }
   ],
   "source": [
    "# y= a+b1x1+b2x2+b3x+... formülümüze göre\n",
    "a=reg.intercept_\n",
    "b1=reg.coef_[0]\n",
    "b2=reg.coef_[1]\n",
    "b3=reg.coef_[2]\n",
    "\n",
    "x1=230\n",
    "x2=4\n",
    "x3=10\n",
    "\n",
    "y=a+b1*x1+b2*x2+b3*x3\n",
    "y"
   ]
  },
  {
   "cell_type": "code",
   "execution_count": 30,
   "id": "2903c930",
   "metadata": {},
   "outputs": [
    {
     "data": {
      "text/plain": [
       "[<matplotlib.lines.Line2D at 0x1e4093d1db0>]"
      ]
     },
     "execution_count": 30,
     "metadata": {},
     "output_type": "execute_result"
    },
    {
     "data": {
      "image/png": "[encoded data removed]",
      "text/plain": [
       "<Figure size 640x480 with 1 Axes>"
      ]
     },
     "metadata": {},
     "output_type": "display_data"
    }
   ],
   "source": [
    "plt.xlabel(\"alan\",color=\"red\")\n",
    "plt.ylabel(\"fiyat\",color=\"red\")\n",
    "plt.title(\"Linear Regression\",color=\"red\")\n",
    "plt.scatter(df.alan,df.fiyat,color=\"red\",marker=\"+\")\n",
    "plt.plot(df.alan,reg.predict(df[[\"alan\",\"odasayisi\",\"binayasi\"]]),color=\"blue\") #çizgi"
   ]
  },
  {
   "cell_type": "code",
   "execution_count": null,
   "id": "e85c9a1d",
   "metadata": {},
   "outputs": [],
   "source": []
  }
 ],
 "metadata": {
  "kernelspec": {
   "display_name": "Python 3 (ipykernel)",
   "language": "python",
   "name": "python3"
  },
  "language_info": {
   "codemirror_mode": {
    "name": "ipython",
    "version": 3
   },
   "file_extension": ".py",
   "mimetype": "text/x-python",
   "name": "python",
   "nbconvert_exporter": "python",
   "pygments_lexer": "ipython3",
   "version": "3.10.13"
  }
 },
 "nbformat": 4,
 "nbformat_minor": 5
}
