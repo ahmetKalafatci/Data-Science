{
 "cells": [
  {
   "cell_type": "markdown",
   "id": "adf33dab",
   "metadata": {},
   "source": [
    "* Çok fazla özellik içeren setlerin sınıflandırılmasında kullanılır\n",
    "\n",
    "\n",
    "* Matematiksel çok boyutlu support vectors kullanarak hyberplanes sayesinde verileri birbirinden ayırır\n",
    "\n",
    "\n",
    "* Yüksek seviye matematiksel algoritmalar kullanır. Bu kullanılan karmaşık matematiksel algoritmalara kerel-trick de denir\n",
    "\n",
    "\n",
    "* Supervised learning kapsamındadır\n",
    "\n",
    "\n",
    "* Modeli train etmek gerekir\n",
    "\n",
    "\n",
    "* Sadece sınıflandırma amaçlı kullanılır\n",
    "\n",
    "\n",
    "* SVM kullanırken herhangi bir kernel belirtmezsek default olarak kernel olarak rbf kullanılır. ancak istersek kerneli değiştirebiliriz;\n",
    "\n",
    "\n",
    "* svm_model= SVC(kernel=\"poly\",random_state=3) #polinomik kernel kullanılır\n",
    "* svm_model.fit(x_train,y_train)\n",
    "\n",
    "\n",
    "* Kullanabileceğimiz kernelleri görmek için scikit-learn.org sitesine bakabiliriz"
   ]
  },
  {
   "cell_type": "markdown",
   "id": "13c5dcb4",
   "metadata": {},
   "source": [
    "#### Bu uygulamada şeker hastalığı veri setiyle sınıflandırma yapalım"
   ]
  },
  {
   "cell_type": "code",
   "execution_count": 3,
   "id": "075ac691",
   "metadata": {},
   "outputs": [],
   "source": [
    "import pandas as pd\n",
    "import numpy as np\n",
    "import matplotlib.pyplot as plt\n",
    "from sklearn.svm import SVC\n",
    "from sklearn.model_selection import train_test_split\n",
    "from sklearn.preprocessing import MinMaxScaler"
   ]
  },
  {
   "cell_type": "code",
   "execution_count": 4,
   "id": "5ca0e5be",
   "metadata": {},
   "outputs": [
    {
     "data": {
      "text/html": [
       "<div>\n",
       "<style scoped>\n",
       "    .dataframe tbody tr th:only-of-type {\n",
       "        vertical-align: middle;\n",
       "    }\n",
       "\n",
       "    .dataframe tbody tr th {\n",
       "        vertical-align: top;\n",
       "    }\n",
       "\n",
       "    .dataframe thead th {\n",
       "        text-align: right;\n",
       "    }\n",
       "</style>\n",
       "<table border=\"1\" class=\"dataframe\">\n",
       "  <thead>\n",
       "    <tr style=\"text-align: right;\">\n",
       "      <th></th>\n",
       "      <th>Pregnancies</th>\n",
       "      <th>Glucose</th>\n",
       "      <th>BloodPressure</th>\n",
       "      <th>SkinThickness</th>\n",
       "      <th>Insulin</th>\n",
       "      <th>BMI</th>\n",
       "      <th>DiabetesPedigreeFunction</th>\n",
       "      <th>Age</th>\n",
       "      <th>Outcome</th>\n",
       "    </tr>\n",
       "  </thead>\n",
       "  <tbody>\n",
       "    <tr>\n",
       "      <th>0</th>\n",
       "      <td>1</td>\n",
       "      <td>193</td>\n",
       "      <td>50</td>\n",
       "      <td>16</td>\n",
       "      <td>375</td>\n",
       "      <td>25.9</td>\n",
       "      <td>0.655</td>\n",
       "      <td>24</td>\n",
       "      <td>0</td>\n",
       "    </tr>\n",
       "    <tr>\n",
       "      <th>1</th>\n",
       "      <td>11</td>\n",
       "      <td>155</td>\n",
       "      <td>76</td>\n",
       "      <td>28</td>\n",
       "      <td>150</td>\n",
       "      <td>33.3</td>\n",
       "      <td>1.353</td>\n",
       "      <td>51</td>\n",
       "      <td>1</td>\n",
       "    </tr>\n",
       "    <tr>\n",
       "      <th>2</th>\n",
       "      <td>3</td>\n",
       "      <td>191</td>\n",
       "      <td>68</td>\n",
       "      <td>15</td>\n",
       "      <td>130</td>\n",
       "      <td>30.9</td>\n",
       "      <td>0.299</td>\n",
       "      <td>34</td>\n",
       "      <td>0</td>\n",
       "    </tr>\n",
       "    <tr>\n",
       "      <th>3</th>\n",
       "      <td>3</td>\n",
       "      <td>141</td>\n",
       "      <td>0</td>\n",
       "      <td>0</td>\n",
       "      <td>0</td>\n",
       "      <td>30.0</td>\n",
       "      <td>0.761</td>\n",
       "      <td>27</td>\n",
       "      <td>1</td>\n",
       "    </tr>\n",
       "    <tr>\n",
       "      <th>4</th>\n",
       "      <td>4</td>\n",
       "      <td>95</td>\n",
       "      <td>70</td>\n",
       "      <td>32</td>\n",
       "      <td>0</td>\n",
       "      <td>32.1</td>\n",
       "      <td>0.612</td>\n",
       "      <td>24</td>\n",
       "      <td>0</td>\n",
       "    </tr>\n",
       "  </tbody>\n",
       "</table>\n",
       "</div>"
      ],
      "text/plain": [
       "   Pregnancies  Glucose  BloodPressure  SkinThickness  Insulin   BMI  \\\n",
       "0            1      193             50             16      375  25.9   \n",
       "1           11      155             76             28      150  33.3   \n",
       "2            3      191             68             15      130  30.9   \n",
       "3            3      141              0              0        0  30.0   \n",
       "4            4       95             70             32        0  32.1   \n",
       "\n",
       "   DiabetesPedigreeFunction  Age  Outcome  \n",
       "0                     0.655   24        0  \n",
       "1                     1.353   51        1  \n",
       "2                     0.299   34        0  \n",
       "3                     0.761   27        1  \n",
       "4                     0.612   24        0  "
      ]
     },
     "execution_count": 4,
     "metadata": {},
     "output_type": "execute_result"
    }
   ],
   "source": [
    "# outcome=1 şeker hastası\n",
    "# outcome=0 sağlıklı\n",
    "\n",
    "df=pd.read_csv(\"svm_dataset.csv\")\n",
    "df.head()"
   ]
  },
  {
   "cell_type": "code",
   "execution_count": 15,
   "id": "f6435f95",
   "metadata": {},
   "outputs": [
    {
     "name": "stdout",
     "output_type": "stream",
     "text": [
      "normalizasyon öncesi \n",
      "\n",
      "   Pregnancies  Glucose  BloodPressure  SkinThickness  Insulin   BMI  \\\n",
      "0            1      193             50             16      375  25.9   \n",
      "1           11      155             76             28      150  33.3   \n",
      "2            3      191             68             15      130  30.9   \n",
      "3            3      141              0              0        0  30.0   \n",
      "4            4       95             70             32        0  32.1   \n",
      "\n",
      "   DiabetesPedigreeFunction  Age  \n",
      "0                     0.655   24  \n",
      "1                     1.353   51  \n",
      "2                     0.299   34  \n",
      "3                     0.761   27  \n",
      "4                     0.612   24  \n",
      "normalizasyon sonrası \n",
      "\n",
      "   Pregnancies   Glucose  BloodPressure  SkinThickness   Insulin       BMI  \\\n",
      "0     0.071429  0.969849       0.438596       0.161616  0.443262  0.436027   \n",
      "1     0.785714  0.778894       0.666667       0.282828  0.177305  0.560606   \n",
      "2     0.214286  0.959799       0.596491       0.151515  0.153664  0.520202   \n",
      "3     0.214286  0.708543       0.000000       0.000000  0.000000  0.505051   \n",
      "4     0.285714  0.477387       0.614035       0.323232  0.000000  0.540404   \n",
      "\n",
      "   DiabetesPedigreeFunction       Age  \n",
      "0                  0.246371  0.050000  \n",
      "1                  0.544406  0.500000  \n",
      "2                  0.094364  0.216667  \n",
      "3                  0.291631  0.100000  \n",
      "4                  0.228010  0.050000  \n"
     ]
    }
   ],
   "source": [
    "seker_hastalari=df[df.Outcome==1]\n",
    "saglikli_insanlar=df[df.Outcome==0]\n",
    "\n",
    "y=df.Outcome.values\n",
    "x_orijinal=df.drop([\"Outcome\"],axis=1)\n",
    "\n",
    "\n",
    "scaler=MinMaxScaler()\n",
    "scaler.fit(x_orijinal)\n",
    "npArr=scaler.transform(x_orijinal) #normalization işlemini burda yapıyor\n",
    "\n",
    "#normalization sonrası veriler array olarak döner bu arrayı dataframe dönüştürmemiz gerekir\n",
    "x=pd.DataFrame(data=npArr,columns=x_orijinal.columns)\n",
    "\n",
    "print(\"normalizasyon öncesi \\n\")\n",
    "print(x_orijinal.head())\n",
    "\n",
    "print(\"normalizasyon sonrası \\n\")\n",
    "print(x.head())\n",
    "\n"
   ]
  },
  {
   "cell_type": "code",
   "execution_count": 16,
   "id": "6a21303f",
   "metadata": {},
   "outputs": [
    {
     "data": {
      "text/html": [
       "<div>\n",
       "<style scoped>\n",
       "    .dataframe tbody tr th:only-of-type {\n",
       "        vertical-align: middle;\n",
       "    }\n",
       "\n",
       "    .dataframe tbody tr th {\n",
       "        vertical-align: top;\n",
       "    }\n",
       "\n",
       "    .dataframe thead th {\n",
       "        text-align: right;\n",
       "    }\n",
       "</style>\n",
       "<table border=\"1\" class=\"dataframe\">\n",
       "  <thead>\n",
       "    <tr style=\"text-align: right;\">\n",
       "      <th></th>\n",
       "      <th>Pregnancies</th>\n",
       "      <th>Glucose</th>\n",
       "      <th>BloodPressure</th>\n",
       "      <th>SkinThickness</th>\n",
       "      <th>Insulin</th>\n",
       "      <th>BMI</th>\n",
       "      <th>DiabetesPedigreeFunction</th>\n",
       "      <th>Age</th>\n",
       "    </tr>\n",
       "  </thead>\n",
       "  <tbody>\n",
       "    <tr>\n",
       "      <th>0</th>\n",
       "      <td>0.071429</td>\n",
       "      <td>0.969849</td>\n",
       "      <td>0.438596</td>\n",
       "      <td>0.161616</td>\n",
       "      <td>0.443262</td>\n",
       "      <td>0.436027</td>\n",
       "      <td>0.246371</td>\n",
       "      <td>0.050000</td>\n",
       "    </tr>\n",
       "    <tr>\n",
       "      <th>1</th>\n",
       "      <td>0.785714</td>\n",
       "      <td>0.778894</td>\n",
       "      <td>0.666667</td>\n",
       "      <td>0.282828</td>\n",
       "      <td>0.177305</td>\n",
       "      <td>0.560606</td>\n",
       "      <td>0.544406</td>\n",
       "      <td>0.500000</td>\n",
       "    </tr>\n",
       "    <tr>\n",
       "      <th>2</th>\n",
       "      <td>0.214286</td>\n",
       "      <td>0.959799</td>\n",
       "      <td>0.596491</td>\n",
       "      <td>0.151515</td>\n",
       "      <td>0.153664</td>\n",
       "      <td>0.520202</td>\n",
       "      <td>0.094364</td>\n",
       "      <td>0.216667</td>\n",
       "    </tr>\n",
       "    <tr>\n",
       "      <th>3</th>\n",
       "      <td>0.214286</td>\n",
       "      <td>0.708543</td>\n",
       "      <td>0.000000</td>\n",
       "      <td>0.000000</td>\n",
       "      <td>0.000000</td>\n",
       "      <td>0.505051</td>\n",
       "      <td>0.291631</td>\n",
       "      <td>0.100000</td>\n",
       "    </tr>\n",
       "    <tr>\n",
       "      <th>4</th>\n",
       "      <td>0.285714</td>\n",
       "      <td>0.477387</td>\n",
       "      <td>0.614035</td>\n",
       "      <td>0.323232</td>\n",
       "      <td>0.000000</td>\n",
       "      <td>0.540404</td>\n",
       "      <td>0.228010</td>\n",
       "      <td>0.050000</td>\n",
       "    </tr>\n",
       "  </tbody>\n",
       "</table>\n",
       "</div>"
      ],
      "text/plain": [
       "   Pregnancies   Glucose  BloodPressure  SkinThickness   Insulin       BMI  \\\n",
       "0     0.071429  0.969849       0.438596       0.161616  0.443262  0.436027   \n",
       "1     0.785714  0.778894       0.666667       0.282828  0.177305  0.560606   \n",
       "2     0.214286  0.959799       0.596491       0.151515  0.153664  0.520202   \n",
       "3     0.214286  0.708543       0.000000       0.000000  0.000000  0.505051   \n",
       "4     0.285714  0.477387       0.614035       0.323232  0.000000  0.540404   \n",
       "\n",
       "   DiabetesPedigreeFunction       Age  \n",
       "0                  0.246371  0.050000  \n",
       "1                  0.544406  0.500000  \n",
       "2                  0.094364  0.216667  \n",
       "3                  0.291631  0.100000  \n",
       "4                  0.228010  0.050000  "
      ]
     },
     "execution_count": 16,
     "metadata": {},
     "output_type": "execute_result"
    }
   ],
   "source": [
    "x.head()"
   ]
  },
  {
   "cell_type": "code",
   "execution_count": 43,
   "id": "deb62bfc",
   "metadata": {},
   "outputs": [],
   "source": [
    "#train datamız ile test datamızı ayırıyoruz\n",
    "x_train,x_test,y_train,y_test=train_test_split(x,y,test_size=0.2,random_state=3)"
   ]
  },
  {
   "cell_type": "code",
   "execution_count": 44,
   "id": "6732646f",
   "metadata": {},
   "outputs": [
    {
     "data": {
      "text/html": [
       "<style>#sk-container-id-4 {color: black;}#sk-container-id-4 pre{padding: 0;}#sk-container-id-4 div.sk-toggleable {background-color: white;}#sk-container-id-4 label.sk-toggleable__label {cursor: pointer;display: block;width: 100%;margin-bottom: 0;padding: 0.3em;box-sizing: border-box;text-align: center;}#sk-container-id-4 label.sk-toggleable__label-arrow:before {content: \"▸\";float: left;margin-right: 0.25em;color: #696969;}#sk-container-id-4 label.sk-toggleable__label-arrow:hover:before {color: black;}#sk-container-id-4 div.sk-estimator:hover label.sk-toggleable__label-arrow:before {color: black;}#sk-container-id-4 div.sk-toggleable__content {max-height: 0;max-width: 0;overflow: hidden;text-align: left;background-color: #f0f8ff;}#sk-container-id-4 div.sk-toggleable__content pre {margin: 0.2em;color: black;border-radius: 0.25em;background-color: #f0f8ff;}#sk-container-id-4 input.sk-toggleable__control:checked~div.sk-toggleable__content {max-height: 200px;max-width: 100%;overflow: auto;}#sk-container-id-4 input.sk-toggleable__control:checked~label.sk-toggleable__label-arrow:before {content: \"▾\";}#sk-container-id-4 div.sk-estimator input.sk-toggleable__control:checked~label.sk-toggleable__label {background-color: #d4ebff;}#sk-container-id-4 div.sk-label input.sk-toggleable__control:checked~label.sk-toggleable__label {background-color: #d4ebff;}#sk-container-id-4 input.sk-hidden--visually {border: 0;clip: rect(1px 1px 1px 1px);clip: rect(1px, 1px, 1px, 1px);height: 1px;margin: -1px;overflow: hidden;padding: 0;position: absolute;width: 1px;}#sk-container-id-4 div.sk-estimator {font-family: monospace;background-color: #f0f8ff;border: 1px dotted black;border-radius: 0.25em;box-sizing: border-box;margin-bottom: 0.5em;}#sk-container-id-4 div.sk-estimator:hover {background-color: #d4ebff;}#sk-container-id-4 div.sk-parallel-item::after {content: \"\";width: 100%;border-bottom: 1px solid gray;flex-grow: 1;}#sk-container-id-4 div.sk-label:hover label.sk-toggleable__label {background-color: #d4ebff;}#sk-container-id-4 div.sk-serial::before {content: \"\";position: absolute;border-left: 1px solid gray;box-sizing: border-box;top: 0;bottom: 0;left: 50%;z-index: 0;}#sk-container-id-4 div.sk-serial {display: flex;flex-direction: column;align-items: center;background-color: white;padding-right: 0.2em;padding-left: 0.2em;position: relative;}#sk-container-id-4 div.sk-item {position: relative;z-index: 1;}#sk-container-id-4 div.sk-parallel {display: flex;align-items: stretch;justify-content: center;background-color: white;position: relative;}#sk-container-id-4 div.sk-item::before, #sk-container-id-4 div.sk-parallel-item::before {content: \"\";position: absolute;border-left: 1px solid gray;box-sizing: border-box;top: 0;bottom: 0;left: 50%;z-index: -1;}#sk-container-id-4 div.sk-parallel-item {display: flex;flex-direction: column;z-index: 1;position: relative;background-color: white;}#sk-container-id-4 div.sk-parallel-item:first-child::after {align-self: flex-end;width: 50%;}#sk-container-id-4 div.sk-parallel-item:last-child::after {align-self: flex-start;width: 50%;}#sk-container-id-4 div.sk-parallel-item:only-child::after {width: 0;}#sk-container-id-4 div.sk-dashed-wrapped {border: 1px dashed gray;margin: 0 0.4em 0.5em 0.4em;box-sizing: border-box;padding-bottom: 0.4em;background-color: white;}#sk-container-id-4 div.sk-label label {font-family: monospace;font-weight: bold;display: inline-block;line-height: 1.2em;}#sk-container-id-4 div.sk-label-container {text-align: center;}#sk-container-id-4 div.sk-container {/* jupyter's `normalize.less` sets `[hidden] { display: none; }` but bootstrap.min.css set `[hidden] { display: none !important; }` so we also need the `!important` here to be able to override the default hidden behavior on the sphinx rendered scikit-learn.org. See: https://github.com/scikit-learn/scikit-learn/issues/21755 */display: inline-block !important;position: relative;}#sk-container-id-4 div.sk-text-repr-fallback {display: none;}</style><div id=\"sk-container-id-4\" class=\"sk-top-container\"><div class=\"sk-text-repr-fallback\"><pre>SVC(random_state=1)</pre><b>In a Jupyter environment, please rerun this cell to show the HTML representation or trust the notebook. <br />On GitHub, the HTML representation is unable to render, please try loading this page with nbviewer.org.</b></div><div class=\"sk-container\" hidden><div class=\"sk-item\"><div class=\"sk-estimator sk-toggleable\"><input class=\"sk-toggleable__control sk-hidden--visually\" id=\"sk-estimator-id-4\" type=\"checkbox\" checked><label for=\"sk-estimator-id-4\" class=\"sk-toggleable__label sk-toggleable__label-arrow\">SVC</label><div class=\"sk-toggleable__content\"><pre>SVC(random_state=1)</pre></div></div></div></div></div>"
      ],
      "text/plain": [
       "SVC(random_state=1)"
      ]
     },
     "execution_count": 44,
     "metadata": {},
     "output_type": "execute_result"
    }
   ],
   "source": [
    "#SVM modelimizi oluşturalım\n",
    "svm_model=SVC(random_state=1)\n",
    "svm_model.fit(x_train,y_train)"
   ]
  },
  {
   "cell_type": "code",
   "execution_count": 47,
   "id": "6af35c5e",
   "metadata": {},
   "outputs": [
    {
     "data": {
      "text/html": [
       "<div>\n",
       "<style scoped>\n",
       "    .dataframe tbody tr th:only-of-type {\n",
       "        vertical-align: middle;\n",
       "    }\n",
       "\n",
       "    .dataframe tbody tr th {\n",
       "        vertical-align: top;\n",
       "    }\n",
       "\n",
       "    .dataframe thead th {\n",
       "        text-align: right;\n",
       "    }\n",
       "</style>\n",
       "<table border=\"1\" class=\"dataframe\">\n",
       "  <thead>\n",
       "    <tr style=\"text-align: right;\">\n",
       "      <th></th>\n",
       "      <th>Pregnancies</th>\n",
       "      <th>Glucose</th>\n",
       "      <th>BloodPressure</th>\n",
       "      <th>SkinThickness</th>\n",
       "      <th>Insulin</th>\n",
       "      <th>BMI</th>\n",
       "      <th>DiabetesPedigreeFunction</th>\n",
       "      <th>Age</th>\n",
       "    </tr>\n",
       "  </thead>\n",
       "  <tbody>\n",
       "    <tr>\n",
       "      <th>0</th>\n",
       "      <td>7.0</td>\n",
       "      <td>128.0</td>\n",
       "      <td>71.0</td>\n",
       "      <td>34.0</td>\n",
       "      <td>0.0</td>\n",
       "      <td>35.6</td>\n",
       "      <td>0.617</td>\n",
       "      <td>50.0</td>\n",
       "    </tr>\n",
       "    <tr>\n",
       "      <th>1</th>\n",
       "      <td>7.0</td>\n",
       "      <td>128.0</td>\n",
       "      <td>71.0</td>\n",
       "      <td>34.0</td>\n",
       "      <td>0.0</td>\n",
       "      <td>35.6</td>\n",
       "      <td>0.617</td>\n",
       "      <td>40.0</td>\n",
       "    </tr>\n",
       "    <tr>\n",
       "      <th>2</th>\n",
       "      <td>11.0</td>\n",
       "      <td>155.0</td>\n",
       "      <td>76.0</td>\n",
       "      <td>28.0</td>\n",
       "      <td>150.0</td>\n",
       "      <td>33.3</td>\n",
       "      <td>1.353</td>\n",
       "      <td>51.0</td>\n",
       "    </tr>\n",
       "    <tr>\n",
       "      <th>3</th>\n",
       "      <td>3.0</td>\n",
       "      <td>141.0</td>\n",
       "      <td>0.0</td>\n",
       "      <td>0.0</td>\n",
       "      <td>0.0</td>\n",
       "      <td>30.0</td>\n",
       "      <td>0.761</td>\n",
       "      <td>27.0</td>\n",
       "    </tr>\n",
       "  </tbody>\n",
       "</table>\n",
       "</div>"
      ],
      "text/plain": [
       "   Pregnancies  Glucose  BloodPressure  SkinThickness  Insulin   BMI  \\\n",
       "0          7.0    128.0           71.0           34.0      0.0  35.6   \n",
       "1          7.0    128.0           71.0           34.0      0.0  35.6   \n",
       "2         11.0    155.0           76.0           28.0    150.0  33.3   \n",
       "3          3.0    141.0            0.0            0.0      0.0  30.0   \n",
       "\n",
       "   DiabetesPedigreeFunction   Age  \n",
       "0                     0.617  50.0  \n",
       "1                     0.617  40.0  \n",
       "2                     1.353  51.0  \n",
       "3                     0.761  27.0  "
      ]
     },
     "execution_count": 47,
     "metadata": {},
     "output_type": "execute_result"
    }
   ],
   "source": [
    "#verileri elimizde olan yeni bir kişinin şeker hastası olma ihtimallerini SVM ile bulalım:\n",
    "lst=[7,128,71,34,0,35.6,0.617,50]\n",
    "lst2=[7,128,71,34,0,35.6,0.617,40]\n",
    "lst3=[11,155,76,28,150,33.3,1.353,51]\n",
    "lst4=[3,141,0,0,0,30.0,0.761,27]\n",
    "arr=np.array([lst,lst2,lst3,lst4])\n",
    "\n",
    "data=pd.DataFrame(arr,columns=x.columns)\n",
    "data"
   ]
  },
  {
   "cell_type": "code",
   "execution_count": 48,
   "id": "ea7f973b",
   "metadata": {},
   "outputs": [
    {
     "name": "stdout",
     "output_type": "stream",
     "text": [
      "[0 0 0 0]\n"
     ]
    }
   ],
   "source": [
    "print(svm_model.predict(data)) #girilen kişiler hasta değilmiş"
   ]
  },
  {
   "cell_type": "markdown",
   "id": "30d97b4a",
   "metadata": {},
   "source": [
    "### Modelimizin başarı yüzdesini hesaplayalım"
   ]
  },
  {
   "cell_type": "code",
   "execution_count": 50,
   "id": "bed8211c",
   "metadata": {},
   "outputs": [
    {
     "name": "stdout",
     "output_type": "stream",
     "text": [
      "svm accuracy: % 76.31578947368422\n"
     ]
    }
   ],
   "source": [
    "print(\"svm accuracy: %\",(svm_model.score(x_test,y_test))*100)"
   ]
  },
  {
   "cell_type": "markdown",
   "id": "8daab7b1",
   "metadata": {},
   "source": [
    "* çok düşük bir başarı yüzdesi yok ama kötü bir yüzde. bu yüzdeyi arttırmak için verisetinin çeşitlenmesi ve daha çok veri lazım"
   ]
  }
 ],
 "metadata": {
  "kernelspec": {
   "display_name": "Python 3 (ipykernel)",
   "language": "python",
   "name": "python3"
  },
  "language_info": {
   "codemirror_mode": {
    "name": "ipython",
    "version": 3
   },
   "file_extension": ".py",
   "mimetype": "text/x-python",
   "name": "python",
   "nbconvert_exporter": "python",
   "pygments_lexer": "ipython3",
   "version": "3.10.13"
  }
 },
 "nbformat": 4,
 "nbformat_minor": 5
}
