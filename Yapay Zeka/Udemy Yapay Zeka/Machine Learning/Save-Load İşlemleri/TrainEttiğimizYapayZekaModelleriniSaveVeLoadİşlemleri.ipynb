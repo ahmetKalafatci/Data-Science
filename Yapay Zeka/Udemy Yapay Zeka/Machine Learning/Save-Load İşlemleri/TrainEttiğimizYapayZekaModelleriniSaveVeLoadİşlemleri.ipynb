{
 "cells": [
  {
   "cell_type": "code",
   "execution_count": 2,
   "id": "93298d39",
   "metadata": {},
   "outputs": [],
   "source": [
    "import pandas as pd\n",
    "import matplotlib.pyplot as plt\n",
    "from sklearn import linear_model"
   ]
  },
  {
   "cell_type": "code",
   "execution_count": 3,
   "id": "f2b044cb",
   "metadata": {},
   "outputs": [],
   "source": [
    "import pickle #save ve load işlemler için"
   ]
  },
  {
   "cell_type": "code",
   "execution_count": 4,
   "id": "ea8ab5af",
   "metadata": {},
   "outputs": [],
   "source": [
    "myModel=pickle.load(open(\"evfiyattahmini_mlr_modeli.pickle\",\"rb\")) #rb=open for reading open in binary"
   ]
  },
  {
   "cell_type": "code",
   "execution_count": 5,
   "id": "b5aaba30",
   "metadata": {},
   "outputs": [
    {
     "name": "stderr",
     "output_type": "stream",
     "text": [
      "C:\\Users\\90541\\anaconda3\\lib\\site-packages\\sklearn\\base.py:464: UserWarning: X does not have valid feature names, but LinearRegression was fitted with feature names\n",
      "  warnings.warn(\n"
     ]
    },
    {
     "data": {
      "text/plain": [
       "array([531825.15244295, 590005.75210978, 614506.40327617])"
      ]
     },
     "execution_count": 5,
     "metadata": {},
     "output_type": "execute_result"
    }
   ],
   "source": [
    "myModel.predict([[230,4,10],[230,6,0],[355,3,20]])"
   ]
  },
  {
   "cell_type": "code",
   "execution_count": null,
   "id": "4e630cd1",
   "metadata": {},
   "outputs": [],
   "source": []
  },
  {
   "cell_type": "code",
   "execution_count": null,
   "id": "4355d5a5",
   "metadata": {},
   "outputs": [],
   "source": []
  },
  {
   "cell_type": "code",
   "execution_count": null,
   "id": "0bb47a49",
   "metadata": {},
   "outputs": [],
   "source": [
    "modelDosyasi=\"evfiyattahmini_mlr_modeli.pickle\""
   ]
  },
  {
   "cell_type": "code",
   "execution_count": null,
   "id": "1610f649",
   "metadata": {},
   "outputs": [],
   "source": [
    "pickle.dump(reg,open(modelDosyasi,\"wb\")) #wb= open for writing and open in binary mode anlamına gelir"
   ]
  },
  {
   "cell_type": "code",
   "execution_count": null,
   "id": "08ce7fb8",
   "metadata": {},
   "outputs": [],
   "source": []
  }
 ],
 "metadata": {
  "kernelspec": {
   "display_name": "Python 3 (ipykernel)",
   "language": "python",
   "name": "python3"
  },
  "language_info": {
   "codemirror_mode": {
    "name": "ipython",
    "version": 3
   },
   "file_extension": ".py",
   "mimetype": "text/x-python",
   "name": "python",
   "nbconvert_exporter": "python",
   "pygments_lexer": "ipython3",
   "version": "3.10.13"
  }
 },
 "nbformat": 4,
 "nbformat_minor": 5
}
