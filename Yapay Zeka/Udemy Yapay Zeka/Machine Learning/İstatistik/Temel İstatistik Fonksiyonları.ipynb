{
 "cells": [
  {
   "cell_type": "markdown",
   "id": "8ada8fcf",
   "metadata": {},
   "source": [
    "## Mean"
   ]
  },
  {
   "cell_type": "markdown",
   "id": "c060b5e4",
   "metadata": {},
   "source": [
    "* ortalamayı döndürür"
   ]
  },
  {
   "cell_type": "markdown",
   "id": "fafdeafc",
   "metadata": {},
   "source": [
    "## Median"
   ]
  },
  {
   "cell_type": "markdown",
   "id": "21005955",
   "metadata": {},
   "source": [
    "* ortanca değeri döndürür\n",
    "* veri set: 37,24,12,7,9,42,55\n",
    "* sıralama sonrası: 7,9,12,24,37,42,55\n",
    "* median değeri 24dür"
   ]
  },
  {
   "cell_type": "markdown",
   "id": "122bb411",
   "metadata": {},
   "source": [
    "* verisetinde 8 sayı olsaydı ;\n",
    "* sıralama sonrası: 7,9,12,24,37,42,55,58\n",
    "* median = (24+37)/2=30.5"
   ]
  },
  {
   "cell_type": "markdown",
   "id": "71999c27",
   "metadata": {},
   "source": [
    "## Mode"
   ]
  },
  {
   "cell_type": "markdown",
   "id": "f386e0c3",
   "metadata": {},
   "source": [
    "* en sık tekrarlanan değer moddur\n",
    "* örneğin veri setimiz 34,21,47,34,15,34,17,43,32 olsun\n",
    "* veri setimizde 34 değeri 3 kez tekrarlanmıştır\n",
    "* mode değeri 34 tür"
   ]
  },
  {
   "cell_type": "code",
   "execution_count": 1,
   "id": "39617a58",
   "metadata": {},
   "outputs": [],
   "source": [
    "import numpy as np"
   ]
  },
  {
   "cell_type": "code",
   "execution_count": 11,
   "id": "29ded7b6",
   "metadata": {},
   "outputs": [
    {
     "data": {
      "text/plain": [
       "array([ 5726.9559394 ,  6839.98229959,  4983.01070664,  5316.59264339,\n",
       "        6974.10427135,  4670.60369671,  3021.67402627,  5673.45046554,\n",
       "        7509.6865875 ,  5094.6361989 ,  5285.17654291,  4077.44596943,\n",
       "        3702.13347422,  5356.7765339 ,  6693.10282989,  4087.88712651,\n",
       "        5056.66144178,  4127.41490093,  5038.09031022,  4274.01397967,\n",
       "        3161.04909406,  6744.27922813,  3095.57298311,  1298.03786967,\n",
       "        2918.85842312,  7116.11974839,  3523.33190426,  3994.92905133,\n",
       "        1536.23132109,  5161.75896059,  5718.65160174,  6828.42651864,\n",
       "        6086.3329754 ,  6807.5100521 ,  5578.24394573,  5971.12282617,\n",
       "        1852.78808902,  3562.04293076,  4526.85435233,  1919.32094327,\n",
       "        3889.7850226 ,  3558.99384545,  6541.31446066,  3599.21480931,\n",
       "        5730.27043573,  4955.4216967 ,  3723.82078228,  3747.40324942,\n",
       "        5675.34689046,  7745.00548719,  2237.55961298,  4051.92704617,\n",
       "        6486.14245959,  7141.89725521,  6625.00635457,  2744.10590464,\n",
       "        1944.99121165,  4741.10840251,  2954.18521455,  9488.62953877,\n",
       "        7278.95567956,  2407.29543414,  5509.18394194,  4515.62373933,\n",
       "        4898.2700561 ,  4036.77164342,  2736.16039005,  3529.34630001,\n",
       "        6878.23649228,  2373.34011099,  6572.04584419,  5050.52810327,\n",
       "        5607.96465139,  6258.14902762,  7283.09727298,  1678.18469228,\n",
       "        2991.24384869,  9369.92036403,  4952.98304774,  3031.3810958 ,\n",
       "        5411.62486905,  6772.81982889,  3385.84753307,  4526.19090362,\n",
       "        3790.25705082,  7366.46210608,  8871.00239821,  1845.16728467,\n",
       "        6921.5375272 ,  6746.35716188,  4861.43258991,  6360.73690071,\n",
       "        1961.00520447,  7924.37201163,  3602.77530303,  2343.32821729,\n",
       "        5531.0601456 ,  4736.21581201,  4815.79490564,  3884.26360019,\n",
       "        2301.88930617,  5843.25645807,  4234.31553612,  6355.46813767,\n",
       "        7490.57168885,  6703.12550387,  5904.59631364,  4867.69692444,\n",
       "        4793.06073704,  5638.41230877,  4922.39251948,  5265.02315201,\n",
       "        2785.22802062,  4716.48539516,  1471.18245021,  2604.93350719,\n",
       "        6511.83004553,  5841.22501354,  5408.06710153,  5660.83597665,\n",
       "        3717.16217141,  5013.91294539,  4599.91154619,  5541.75031464,\n",
       "        6334.38362066,  4552.79517804,  5019.92903576,  7456.32818001,\n",
       "        8303.87308102,   717.87225992,  3581.74647847,  5665.12371807,\n",
       "        1774.40364707,  5902.06276043,  3057.56215506,  7067.88194697,\n",
       "         952.87200136,  3038.32227182,  3217.51566221,  2875.54345324,\n",
       "        4972.45559187,  5272.09742868,  3483.19751739,  5862.70416766,\n",
       "        5046.45938499,  5531.20691704,  7537.97364248,  4605.6659631 ,\n",
       "        1869.79151427,  6923.52605053,  4437.49156489,  1812.42315202,\n",
       "        5933.57516363,  5470.76895991,  3914.95659575,  6081.74457389,\n",
       "         730.10749443,  5246.92100188,  2307.43240977,  7230.48195852,\n",
       "        7598.04257324,  5792.87489245,  5707.32622465,  5470.92066514,\n",
       "        7027.93794397,  3659.887511  ,  6174.26005327,  7172.55705602,\n",
       "        2317.9691031 ,  6914.81654897,  3976.59343725,  5322.31740693,\n",
       "        5836.0400757 ,  4875.18395863,  4320.72066956,  3732.16718367,\n",
       "        5464.36891118,  4326.82590327,  3895.90430942,  4714.49872903,\n",
       "        3305.39289198,  3517.5423854 ,  6192.97329183,  2166.43660407,\n",
       "        6082.85031675,  2046.13366341,  4536.00750058,  5129.24232845,\n",
       "        2542.31617578,  2596.0875203 ,  2175.4597025 ,  4991.87298429,\n",
       "        5470.23615655,  6046.6845449 ,  7080.47593823,  4734.96225284,\n",
       "        6439.13996659,  2850.73046262,  5612.03462723,  3471.18810287,\n",
       "        2675.9603155 ,  1665.63371468,  6085.53422175,  3413.27209894,\n",
       "        5657.60074915,  5501.82246236,  7190.51490917,  4300.26419359,\n",
       "        5085.94912789,  4961.71908197,  6924.32712601,  6095.78031371,\n",
       "        2815.65742104,  2947.92719153,  8989.95195959,  5358.92621375,\n",
       "        5239.54834397,  6314.35384309,  9037.30366787,  6257.38255413,\n",
       "        8003.54417493,  4841.03272646,  5491.90090249,  3166.45860467,\n",
       "        -129.17898563,  3674.79027701,  6371.97297629,  2450.44027462,\n",
       "        4153.56043711,  3039.12642305,  3670.42675378,  2134.99665606,\n",
       "        3913.22551126,  3128.61493712,  1378.46754883,  7403.5708789 ,\n",
       "        3503.48923027,  3628.12440527,  4989.70505321,  2019.33521845,\n",
       "        5829.56410733,  4823.77574744,  7514.47661039,  4336.03630667,\n",
       "        1702.50121674,  4486.89789136,  5493.79311475,  5078.09123986,\n",
       "        3100.73076459,  5073.38177064,  3325.21567292,  4624.1360825 ,\n",
       "        5033.78521155,   461.18478934,  4998.02095361,  1600.59864551,\n",
       "        4584.13593502,  4872.63133105,  5027.71863168,  1784.71272684,\n",
       "        8374.76722359,  -348.14111589,  6041.99478057,  7559.72657911,\n",
       "        2367.70985712,  5547.98252147,  5766.34417275,  4280.73795734,\n",
       "        1965.54742316,  2701.63566379,  2660.45904555,  4235.13708657,\n",
       "        4336.98308461,  1875.48384829,  4698.37524859,  2758.97155115,\n",
       "        5725.84378467,  2159.32601775,  3642.07593138,  2147.05671689,\n",
       "        4049.49294262,  6078.4169738 ,  7189.62129556,  3990.37265714,\n",
       "        7052.91375741,  5517.91470808,  4088.08976123,  3870.86055631,\n",
       "        4735.7692042 ,  5696.60851033,  6147.44720842,  6761.09381673,\n",
       "        4243.14354068,  4840.16494855,  6722.19298166,  6968.32565993,\n",
       "        6140.28214983,   621.65802677,  6546.36295002,  5634.1306572 ,\n",
       "        2447.77597436,  3106.49429067,  4133.5482497 ,  5131.17736661,\n",
       "        5163.51896635,  3931.73542314,  6975.88246068,  4667.93217533,\n",
       "        6228.73573583,  7377.21454252,  4639.1257771 ,  4469.98851624,\n",
       "        2855.23292837,  2586.65658092,  5764.77498645,  4496.5115035 ,\n",
       "        3371.4709363 ,  3613.20430587,  6499.9712912 ,  4791.9183517 ,\n",
       "        8704.75040282,  6222.90907855,  2609.37381015,  7966.09940904,\n",
       "        5169.89033426,  5076.46208315,  6639.32488859,   889.86436191,\n",
       "        1987.32246558,  6338.6169051 ,  4779.64585012,  7163.73948479,\n",
       "        7030.45725834,  5297.69130184,  3163.20572643,  8262.95163065,\n",
       "        9899.77117652,  7278.7294919 ,  5341.44387553,  -197.43649315,\n",
       "        6566.4896495 ,  6472.66699243,  6214.82776959,  5664.38827819,\n",
       "        3990.32715561,  2015.81450619,  7353.40582804,  3302.14022958,\n",
       "        1778.33319385,  5009.94366477,  8553.83894191,  2853.81303285,\n",
       "        6558.52212945,  1903.45905921,  4745.04807275,  4044.16746242,\n",
       "        3664.12126392,  5435.01531527,  4374.33355149,  6064.56200156,\n",
       "        4362.80292305,  4462.66654223,  6147.40543836,  6943.17251439,\n",
       "        5591.04536454,  4015.11953168,  8986.23691689,  5931.89230085,\n",
       "        1691.87658813,  4886.91208091,  1320.88859033,  7812.77338686,\n",
       "        3768.38765453,  7211.74791099,  7851.33322315,  3436.64115139,\n",
       "         234.07667054,  3295.49276578,  7185.83525093,  4116.6188951 ,\n",
       "        4533.54683228,  2576.56892543,  5939.59372536,  2571.06663591,\n",
       "        4323.88576921,  2221.86297958,  4435.75070061,  5518.39639572,\n",
       "        3423.33510745,  3820.40744421,  4911.54972408,  6822.00688009,\n",
       "        8111.61793225,  5703.594923  ,  8878.98312618,  5659.03703393,\n",
       "        6035.49236991,  2632.71715647,  4913.5858462 ,  2017.85631184,\n",
       "        7053.56265162,  4098.09798162,  6300.02572214,  4518.42017323,\n",
       "        8049.72579283,  5972.79119893,  3813.09952241,  3939.2740596 ,\n",
       "        6500.84330447,  5154.93327365,  1741.1817368 ,  5369.7483459 ,\n",
       "        4538.37215839,  4242.77151386,  8143.78090178,  6962.74236316,\n",
       "        5078.92576154,  2848.71091331,  9000.55612899,  5660.46172162,\n",
       "        6551.57108841,  2373.33728709,  7440.3313814 ,  3530.67540112,\n",
       "        3349.54348009,  3744.59871694,  3700.99035809,  1801.97217239,\n",
       "        6892.94882027,  7308.17772959,  1871.54954869,  3122.63131546,\n",
       "        6721.50722734,  3952.10027451,  1094.50723168,  4765.41869674,\n",
       "        5327.3485579 ,  4260.7784882 ,  8264.88838206,  6946.89492646,\n",
       "        3840.75755363,  5786.76457495,  1401.32232475,  5921.09477367,\n",
       "        7169.40712957,  2357.06006609,  4931.58247252,  4247.41444637,\n",
       "       -1102.41755737,  1953.28714678,  6824.95559573,    77.01514237,\n",
       "         518.6935485 ,  6713.73898728,  4984.04623137,  4260.20869706,\n",
       "        4328.93063123,  2574.08457609,  9858.7996051 ,  4400.28766198,\n",
       "        4633.29542357,  3600.34953413,  3887.28412902,  4040.60210018,\n",
       "         -22.12149913,  6877.08845175,  4681.73273402,  5552.28923822,\n",
       "        5088.48146017,  1943.55407455,  1535.16268716,  4840.26182316,\n",
       "        6363.02475788,  7310.56854399,  4440.66608995,  2490.44720276,\n",
       "        6071.71236865,  6547.58199181,  5287.76008897,  4634.58380376,\n",
       "        2413.43543061,  5895.76214468,  3522.77143694,  6271.57486962,\n",
       "        4724.58775318,  4240.7816741 ,  1248.52180265,  4861.66296118,\n",
       "       10139.52753829,  4326.37251075,  4359.40891643,  2347.36096007,\n",
       "        3124.56701448,  7244.29415223,  8183.63537516,  6206.81572964,\n",
       "        2607.23171224,  3853.11650594,  2926.15904024,  3756.49428788,\n",
       "        7218.7184028 ,  5996.59847126,  4779.23607078,  7659.78145703,\n",
       "        4505.83904721,  7646.59973904,  2172.15307496,  9319.92158841,\n",
       "        2295.31578109,  7941.86309071,  1915.28346056,   987.65055974,\n",
       "        2708.98783279,  5346.19436654,  3869.17017   ,  2309.80988239,\n",
       "        1749.26581227,  2243.64839407,   447.88662259,  1329.25951998,\n",
       "        7053.99275413,  3435.41729495,  4931.85423092,  4785.03080905,\n",
       "        7279.17332542,  4228.33692247,  6174.49151729,  6816.46395066,\n",
       "        2919.80418087,  1839.8664651 ,    51.34303631,  3932.51631554,\n",
       "         298.58161133,  8335.98569287,  7411.65084028,  7779.24672853,\n",
       "        6460.55003646,  3669.03219323,   936.13671737,  6444.99309744,\n",
       "        4242.95804551,  3437.75890426,  6002.40377252,  5531.61559238,\n",
       "        4182.19542202,  3654.83455001,  3973.42809173,  6384.38762646,\n",
       "        6984.17272686,  4943.9381844 , 11136.19987097,  6570.8326361 ,\n",
       "        6030.24129504,  3741.18169325,  4086.05346003,  5396.1790927 ,\n",
       "        7381.9473197 ,  5489.72727018,  1602.47510144,  3717.45575686,\n",
       "        8419.99142174,  1319.91008726,  3777.25633996,  1673.86155782,\n",
       "        4167.80766704,  4830.39723062,  6291.33352534,  6166.12032059,\n",
       "        2602.22652769,  5090.10318209,  2214.99263677,  3891.17148345,\n",
       "        5771.62233877,  6047.73509123,  1756.23075323,  7244.61527082,\n",
       "        3820.77561666,  1704.61821573,  1021.42898341,  4180.0723157 ,\n",
       "        3620.86847444,  4933.13229132,  6539.99331749,  7497.67202225,\n",
       "        4646.67052972,  4270.20912753,  6487.33002049,  3217.09979022,\n",
       "        5936.88974457,  2386.84768209,  7530.91522254,  1524.25859571,\n",
       "        4441.75715281,  7320.38923478,  6718.96651596,  6440.08480931,\n",
       "        3219.3996326 ,  3048.31868288,  5472.18417815,  3952.05528292,\n",
       "        4920.70703283,  6035.63920611,  2588.47365769,  4562.77673095,\n",
       "        2283.78463929,  3809.67429477,  3756.86494194,  5116.91966039,\n",
       "        4424.37408512,  8817.46957095,  2287.53687441,  3766.08950158,\n",
       "        4586.55575202,  3445.08544577,  4301.49274412,  5533.34752195,\n",
       "        7130.07331381,  7282.59713621,  2965.9888637 ,  5947.12433004,\n",
       "        4398.44658766,  2454.53171801,  3339.72088578,  5066.96112222,\n",
       "        4659.87264364,  4512.47525033,  3940.55266958,  3641.77204262,\n",
       "        4552.82693446,  6005.22017488,  5417.19295802,  5300.60697671,\n",
       "        5492.38599169,  3800.58831119,  1753.13157129,  6466.24086282,\n",
       "        5392.37228608,  3769.32255432,  6545.47988385,  5982.35130897,\n",
       "        5798.17677858,  7098.62607064,  6254.60940038,  6630.49832209,\n",
       "        8112.12646021,  6560.4266234 ,  3303.36028382,  4101.16385716,\n",
       "        4094.01535359,  3386.02102315,  4040.6709265 ,   785.07938531,\n",
       "        6501.3393825 ,  3514.67094567,  4984.92369989,  3147.9735611 ,\n",
       "        3732.73121947,  4926.59364093,  5028.72400973,  5228.1232324 ,\n",
       "        3449.20793018,  4014.96758224,  8084.48499731,  5224.49840056,\n",
       "        6229.84325295,   866.62580155,  3811.80780805,  3344.07358412,\n",
       "        6002.75195383,  6837.74521419,  6330.71872409,  6439.47099875,\n",
       "        7488.51260001,  4197.5405981 ,  8244.0093913 ,  6623.7055723 ,\n",
       "        4992.5228044 ,  6566.90175225,  5045.58816589,  3956.55892641,\n",
       "        7620.23999362,  5486.5970662 ,  3616.21945299,  3032.19919458,\n",
       "        4165.19956849,  3721.36898834,  1686.3152    ,  5050.09078577,\n",
       "        4727.69270347,  5745.52457075,  5811.01925531,  5878.21070669,\n",
       "        6091.0149344 ,  6158.35988846,  8746.21549795,  1647.21524919,\n",
       "        2225.90884784,  2862.80337208,  9088.20077553,  3708.13082052,\n",
       "        4258.26911995,  3831.50114417,  4838.85461855, -2037.70931355,\n",
       "        4899.28334161,  4556.94725974,  3435.48343576,  2495.39422603,\n",
       "        2612.41105668,  2547.18351123,  5103.38362335,  3020.44533135,\n",
       "        3152.7220251 ,  4424.52561492,  4412.36674252,  2947.20659349,\n",
       "        5848.95856408,  5068.0496594 ,  6768.6324031 ,  2996.93999843,\n",
       "        1945.31458222, 10140.57348344,  7944.44514435,  4048.86713219,\n",
       "        6267.79110925,  4598.46214623,  8337.79080537,  5416.19137289,\n",
       "        6477.36702489,  3298.12223435,  3489.65401141,  4306.3419439 ,\n",
       "        5588.43474853,  6831.04717769,  6606.83468569,  3602.55507976,\n",
       "        8224.06146809,  3469.65875545,  5480.968751  ,  6192.62574367,\n",
       "        6622.92116722,  2654.88658122,  8549.03441686,  2534.74727485,\n",
       "        3195.81055659,  6153.61535006,  4062.60660512,  5872.51769217,\n",
       "        5799.14650606,  6310.3048881 ,  4452.04560206,  6419.54936337,\n",
       "        8473.28938778,  4642.19980115,  4392.48803608,  1467.07588247,\n",
       "        2182.2029297 ,  5759.16804402,  6667.08336047,  5191.9889711 ,\n",
       "        3164.87207566,  3738.71586419,  8363.78583285,  4804.89259179,\n",
       "        2883.87116268,  4925.91104289,  1261.03679469,  6157.64730499,\n",
       "        7485.28409232,  5457.85030403,  7622.10002125,  6399.40250993,\n",
       "        8271.98563933,  3374.92452998,  5913.77568361,  5141.56315878,\n",
       "        4742.62289003,  6205.84231946,  6978.66682261,  4121.69073047,\n",
       "        1812.04538879,   -48.48676355,  5698.67383782,  6119.46371978,\n",
       "        3628.82756582,  3201.49093939,  7600.11544255,  7547.79307391,\n",
       "        3616.15218467,  5220.4511475 ,  3518.28733285,  4282.23962724,\n",
       "        6572.96983023,  2833.4563679 ,  5233.7959973 ,  5820.61725944,\n",
       "       10747.16766877,  7167.87506468,  6165.30553524,  1620.37011681,\n",
       "        5472.73580576,  5035.51463361,  5832.07375237,  3897.80546466,\n",
       "         111.49668117,  6034.09617734,  6566.171682  ,  5128.95122241,\n",
       "        3634.84326134,  5595.11486587,  6162.2329391 ,  3093.14547208,\n",
       "        3857.7966243 ,  5662.57609609, 10309.249213  ,  5269.67499229,\n",
       "        6236.2538906 ,  5407.76052326,  4671.13677985,  4838.28881243,\n",
       "        1442.570709  ,  2854.06977533,  5768.28145956,  4933.91326411,\n",
       "        8062.40460828,  7482.90208782,  3440.98487101,   719.85661331,\n",
       "        6112.51967547,  3697.18262052,  7902.12972402,  4723.75822288,\n",
       "         702.3742039 ,  5415.61325218,  7315.72852695,  1568.28185411,\n",
       "        4291.14762363,  1764.81923749,  5301.95412616,  4952.5001312 ,\n",
       "        4099.02168355,  6972.86084712,  6228.43689625,  2527.89853325,\n",
       "        8325.29717513,  4170.44576539,  6365.79044913,  4752.56979196,\n",
       "        5765.47501257,  4426.17595996,  4135.55109709,  1349.56917315,\n",
       "        5760.24800361,  3127.16939163,  5899.40120827,  5933.24364492,\n",
       "        5242.01275784,  8243.30513368,  4042.80912331,  4848.43913291,\n",
       "        8445.57611616,  2998.70202189,  5955.95383978,  6987.16036574,\n",
       "        3828.19963215,  6734.97565171,   993.93996213,  6081.92731725,\n",
       "        5708.01984152,  5939.03541993,  2493.79896113,  9056.65406008,\n",
       "        5036.56139214,  5467.19701489,  5943.78897992,  7270.7055425 ,\n",
       "        4955.98047392,  6452.96550292,  5167.83373197,  4469.76372416,\n",
       "        5006.99125218,  7079.08064719,  9857.75769379,  4721.45778838,\n",
       "        6433.87868779,  4547.97947081,  6289.30959487,  5109.2301243 ,\n",
       "        5485.5250612 ,  6086.89731102,  6720.01952325,  4441.0810694 ,\n",
       "        6871.89873806,  4820.42693643,  6658.63337863,  4372.71518063,\n",
       "        6908.53475422,  5109.89124221,  6856.30526228,  2182.53041177,\n",
       "        8447.37791872,  5699.5900909 ,  5010.38269881,  3131.63215642,\n",
       "        6863.41216129,  8168.88565493,  2801.1767812 ,  5614.13830802,\n",
       "         -13.16638293,  2501.19779972,  4651.55085836,  4349.7070178 ,\n",
       "        4623.89680817,  5861.5188867 ,  4713.76808795,  5794.9575657 ,\n",
       "        7121.62170516,  5828.27723638,  4534.82516108,  7454.37178863,\n",
       "        6280.83133823,  5812.68578185,  6132.59871527,  4445.72616744,\n",
       "        7022.27565311,   581.03653444,  6332.87740687,  5654.73362217,\n",
       "        4658.79642519,  6033.12032526,  1374.06366223,  2203.34938668,\n",
       "        5736.51307205,  4553.30857309,  5007.23692997,  6138.72741544,\n",
       "        4628.19146489,  6130.32119778,  4385.92254791,  7706.80168752,\n",
       "        6878.42119563,  4644.77800587,  4611.53334504,  5906.70985901,\n",
       "        4519.72806287,  6271.96981839,  -758.57302724,  4198.11304837,\n",
       "        6185.40793369,  5193.6407298 ,  6645.89130345,  5483.80782218,\n",
       "        5399.80970292,  4967.33125318,  4495.22735502,  4630.6958044 ,\n",
       "        4799.84383863,  4345.24411982,  3936.99165158,   531.49859112,\n",
       "        3747.98435478,  3441.85057506,  4918.54643324,  4915.69452572,\n",
       "        9173.57945638,  6580.90854728,  5895.12033097,  7491.75433698,\n",
       "        4767.65753582,  5468.71753806,  4830.44139322,  8527.17618012,\n",
       "        4380.50218435,  9153.77981021,  5562.85306648,  7989.55812535,\n",
       "        4373.29657836,  5165.07406628,  5115.46434734,  4466.51874064,\n",
       "        5821.8841966 ,  6108.29454941,  6274.1512242 ,  5176.85330598,\n",
       "        3877.70256686,  5381.87176918,  5653.05544062,  1531.21678111,\n",
       "        6469.6855889 ,  7012.97285094,  7351.81787847,  5121.77706875,\n",
       "        2794.43789001,  5127.19520656,  3656.94581083,  5018.86495043,\n",
       "        7489.80149678,  4429.92568227,  8570.87215591,  8030.51304547])"
      ]
     },
     "execution_count": 11,
     "metadata": {},
     "output_type": "execute_result"
    }
   ],
   "source": [
    "# random kullanarak sample bir verisetini kendimiz oluşturalım\n",
    "# aylık gelir 5000 tl standart sapması 2000tl olsun 1000 kişinin random aylık maaşını hesaplatalım\n",
    "gelirler=np.random.normal(5000,2000,1000)\n",
    "gelirler"
   ]
  },
  {
   "cell_type": "code",
   "execution_count": 3,
   "id": "75b1c555",
   "metadata": {},
   "outputs": [
    {
     "data": {
      "text/plain": [
       "4961.236213503832"
      ]
     },
     "execution_count": 3,
     "metadata": {},
     "output_type": "execute_result"
    }
   ],
   "source": [
    "np.mean(gelirler) # ortalama değer"
   ]
  },
  {
   "cell_type": "code",
   "execution_count": 4,
   "id": "c8e6d008",
   "metadata": {},
   "outputs": [
    {
     "data": {
      "image/png": "[encoded data removed]",
      "text/plain": [
       "<Figure size 640x480 with 1 Axes>"
      ]
     },
     "metadata": {},
     "output_type": "display_data"
    }
   ],
   "source": [
    "import matplotlib.pyplot as plt\n",
    "plt.hist(gelirler,100)\n",
    "plt.show()"
   ]
  },
  {
   "cell_type": "code",
   "execution_count": 5,
   "id": "cacbad24",
   "metadata": {},
   "outputs": [
    {
     "data": {
      "text/plain": [
       "4968.0463348796475"
      ]
     },
     "execution_count": 5,
     "metadata": {},
     "output_type": "execute_result"
    }
   ],
   "source": [
    "np.median(gelirler) #küçükten büyüğe dizip tam ortadaki değeri döndürür"
   ]
  },
  {
   "cell_type": "code",
   "execution_count": 6,
   "id": "157c5c2b",
   "metadata": {},
   "outputs": [
    {
     "data": {
      "text/plain": [
       "104856.37983367019"
      ]
     },
     "execution_count": 6,
     "metadata": {},
     "output_type": "execute_result"
    }
   ],
   "source": [
    "gelirler =np.append(gelirler,[100000000])\n",
    "np.mean(gelirler)\n",
    "# aykırı sadece bir tane değer girince ortalama iki katına çıktı bu normal değil \n",
    "# bunun için bu aykırı değerleri bulup çıkarmak lazım"
   ]
  },
  {
   "cell_type": "markdown",
   "id": "d0c3af35",
   "metadata": {},
   "source": [
    "* böyle durumlarda hemen mediana bakılır \n",
    "* median ve mean arasında çok fazla fark varsa bu ortalamayı bozan bir değer var anlamına gelir\n",
    "* 10000000 değeri eklenmeden önce mean=4961di median=4968di"
   ]
  },
  {
   "cell_type": "code",
   "execution_count": 7,
   "id": "f3276438",
   "metadata": {},
   "outputs": [
    {
     "data": {
      "text/plain": [
       "ModeResult(mode=7, count=43)"
      ]
     },
     "execution_count": 7,
     "metadata": {},
     "output_type": "execute_result"
    }
   ],
   "source": [
    "# mode en sık tekrar eden değerdi\n",
    "# okuldaki çocukların ortalama yaş değerleri random oluşturalım toplam 300 öğrenci yaşlar 7 ile 18 arasında olsun\n",
    "yaslar=np.random.randint(7,18,size=300)\n",
    "from scipy import stats\n",
    "stats.mode(yaslar)"
   ]
  },
  {
   "cell_type": "markdown",
   "id": "085e762d",
   "metadata": {},
   "source": [
    "* En sık değer,mod 7 ve bu mod kez tekrar etmiş"
   ]
  },
  {
   "cell_type": "code",
   "execution_count": 8,
   "id": "4d990308",
   "metadata": {},
   "outputs": [
    {
     "data": {
      "text/plain": [
       "12.0"
      ]
     },
     "execution_count": 8,
     "metadata": {},
     "output_type": "execute_result"
    }
   ],
   "source": [
    "np.median(yaslar)"
   ]
  },
  {
   "cell_type": "code",
   "execution_count": 9,
   "id": "3026ad3b",
   "metadata": {},
   "outputs": [
    {
     "data": {
      "text/plain": [
       "12.063333333333333"
      ]
     },
     "execution_count": 9,
     "metadata": {},
     "output_type": "execute_result"
    }
   ],
   "source": [
    "np.mean(yaslar)"
   ]
  },
  {
   "cell_type": "markdown",
   "id": "69271c7a",
   "metadata": {},
   "source": [
    "## Variance"
   ]
  },
  {
   "cell_type": "markdown",
   "id": "8b8b6494",
   "metadata": {},
   "source": [
    "* Varyans, verilerin aritmetik ortalamadan sapmalarının karelerinin toplamının örnek sayısının 1 eksiğine bölümüdür"
   ]
  },
  {
   "cell_type": "markdown",
   "id": "98a96bd8",
   "metadata": {},
   "source": [
    "* Aslında varyans standart sapmanın karekök alınmamış halidir. yani karesidir"
   ]
  },
  {
   "cell_type": "markdown",
   "id": "12995fcf",
   "metadata": {},
   "source": [
    "## Standart Deviation "
   ]
  },
  {
   "cell_type": "markdown",
   "id": "6f154260",
   "metadata": {},
   "source": [
    "* Standart sapma da varyansın kareköküdür "
   ]
  },
  {
   "cell_type": "code",
   "execution_count": 12,
   "id": "06679c99",
   "metadata": {},
   "outputs": [
    {
     "data": {
      "text/plain": [
       "array([ 5726.9559394 ,  6839.98229959,  4983.01070664,  5316.59264339,\n",
       "        6974.10427135,  4670.60369671,  3021.67402627,  5673.45046554,\n",
       "        7509.6865875 ,  5094.6361989 ,  5285.17654291,  4077.44596943,\n",
       "        3702.13347422,  5356.7765339 ,  6693.10282989,  4087.88712651,\n",
       "        5056.66144178,  4127.41490093,  5038.09031022,  4274.01397967,\n",
       "        3161.04909406,  6744.27922813,  3095.57298311,  1298.03786967,\n",
       "        2918.85842312,  7116.11974839,  3523.33190426,  3994.92905133,\n",
       "        1536.23132109,  5161.75896059,  5718.65160174,  6828.42651864,\n",
       "        6086.3329754 ,  6807.5100521 ,  5578.24394573,  5971.12282617,\n",
       "        1852.78808902,  3562.04293076,  4526.85435233,  1919.32094327,\n",
       "        3889.7850226 ,  3558.99384545,  6541.31446066,  3599.21480931,\n",
       "        5730.27043573,  4955.4216967 ,  3723.82078228,  3747.40324942,\n",
       "        5675.34689046,  7745.00548719,  2237.55961298,  4051.92704617,\n",
       "        6486.14245959,  7141.89725521,  6625.00635457,  2744.10590464,\n",
       "        1944.99121165,  4741.10840251,  2954.18521455,  9488.62953877,\n",
       "        7278.95567956,  2407.29543414,  5509.18394194,  4515.62373933,\n",
       "        4898.2700561 ,  4036.77164342,  2736.16039005,  3529.34630001,\n",
       "        6878.23649228,  2373.34011099,  6572.04584419,  5050.52810327,\n",
       "        5607.96465139,  6258.14902762,  7283.09727298,  1678.18469228,\n",
       "        2991.24384869,  9369.92036403,  4952.98304774,  3031.3810958 ,\n",
       "        5411.62486905,  6772.81982889,  3385.84753307,  4526.19090362,\n",
       "        3790.25705082,  7366.46210608,  8871.00239821,  1845.16728467,\n",
       "        6921.5375272 ,  6746.35716188,  4861.43258991,  6360.73690071,\n",
       "        1961.00520447,  7924.37201163,  3602.77530303,  2343.32821729,\n",
       "        5531.0601456 ,  4736.21581201,  4815.79490564,  3884.26360019,\n",
       "        2301.88930617,  5843.25645807,  4234.31553612,  6355.46813767,\n",
       "        7490.57168885,  6703.12550387,  5904.59631364,  4867.69692444,\n",
       "        4793.06073704,  5638.41230877,  4922.39251948,  5265.02315201,\n",
       "        2785.22802062,  4716.48539516,  1471.18245021,  2604.93350719,\n",
       "        6511.83004553,  5841.22501354,  5408.06710153,  5660.83597665,\n",
       "        3717.16217141,  5013.91294539,  4599.91154619,  5541.75031464,\n",
       "        6334.38362066,  4552.79517804,  5019.92903576,  7456.32818001,\n",
       "        8303.87308102,   717.87225992,  3581.74647847,  5665.12371807,\n",
       "        1774.40364707,  5902.06276043,  3057.56215506,  7067.88194697,\n",
       "         952.87200136,  3038.32227182,  3217.51566221,  2875.54345324,\n",
       "        4972.45559187,  5272.09742868,  3483.19751739,  5862.70416766,\n",
       "        5046.45938499,  5531.20691704,  7537.97364248,  4605.6659631 ,\n",
       "        1869.79151427,  6923.52605053,  4437.49156489,  1812.42315202,\n",
       "        5933.57516363,  5470.76895991,  3914.95659575,  6081.74457389,\n",
       "         730.10749443,  5246.92100188,  2307.43240977,  7230.48195852,\n",
       "        7598.04257324,  5792.87489245,  5707.32622465,  5470.92066514,\n",
       "        7027.93794397,  3659.887511  ,  6174.26005327,  7172.55705602,\n",
       "        2317.9691031 ,  6914.81654897,  3976.59343725,  5322.31740693,\n",
       "        5836.0400757 ,  4875.18395863,  4320.72066956,  3732.16718367,\n",
       "        5464.36891118,  4326.82590327,  3895.90430942,  4714.49872903,\n",
       "        3305.39289198,  3517.5423854 ,  6192.97329183,  2166.43660407,\n",
       "        6082.85031675,  2046.13366341,  4536.00750058,  5129.24232845,\n",
       "        2542.31617578,  2596.0875203 ,  2175.4597025 ,  4991.87298429,\n",
       "        5470.23615655,  6046.6845449 ,  7080.47593823,  4734.96225284,\n",
       "        6439.13996659,  2850.73046262,  5612.03462723,  3471.18810287,\n",
       "        2675.9603155 ,  1665.63371468,  6085.53422175,  3413.27209894,\n",
       "        5657.60074915,  5501.82246236,  7190.51490917,  4300.26419359,\n",
       "        5085.94912789,  4961.71908197,  6924.32712601,  6095.78031371,\n",
       "        2815.65742104,  2947.92719153,  8989.95195959,  5358.92621375,\n",
       "        5239.54834397,  6314.35384309,  9037.30366787,  6257.38255413,\n",
       "        8003.54417493,  4841.03272646,  5491.90090249,  3166.45860467,\n",
       "        -129.17898563,  3674.79027701,  6371.97297629,  2450.44027462,\n",
       "        4153.56043711,  3039.12642305,  3670.42675378,  2134.99665606,\n",
       "        3913.22551126,  3128.61493712,  1378.46754883,  7403.5708789 ,\n",
       "        3503.48923027,  3628.12440527,  4989.70505321,  2019.33521845,\n",
       "        5829.56410733,  4823.77574744,  7514.47661039,  4336.03630667,\n",
       "        1702.50121674,  4486.89789136,  5493.79311475,  5078.09123986,\n",
       "        3100.73076459,  5073.38177064,  3325.21567292,  4624.1360825 ,\n",
       "        5033.78521155,   461.18478934,  4998.02095361,  1600.59864551,\n",
       "        4584.13593502,  4872.63133105,  5027.71863168,  1784.71272684,\n",
       "        8374.76722359,  -348.14111589,  6041.99478057,  7559.72657911,\n",
       "        2367.70985712,  5547.98252147,  5766.34417275,  4280.73795734,\n",
       "        1965.54742316,  2701.63566379,  2660.45904555,  4235.13708657,\n",
       "        4336.98308461,  1875.48384829,  4698.37524859,  2758.97155115,\n",
       "        5725.84378467,  2159.32601775,  3642.07593138,  2147.05671689,\n",
       "        4049.49294262,  6078.4169738 ,  7189.62129556,  3990.37265714,\n",
       "        7052.91375741,  5517.91470808,  4088.08976123,  3870.86055631,\n",
       "        4735.7692042 ,  5696.60851033,  6147.44720842,  6761.09381673,\n",
       "        4243.14354068,  4840.16494855,  6722.19298166,  6968.32565993,\n",
       "        6140.28214983,   621.65802677,  6546.36295002,  5634.1306572 ,\n",
       "        2447.77597436,  3106.49429067,  4133.5482497 ,  5131.17736661,\n",
       "        5163.51896635,  3931.73542314,  6975.88246068,  4667.93217533,\n",
       "        6228.73573583,  7377.21454252,  4639.1257771 ,  4469.98851624,\n",
       "        2855.23292837,  2586.65658092,  5764.77498645,  4496.5115035 ,\n",
       "        3371.4709363 ,  3613.20430587,  6499.9712912 ,  4791.9183517 ,\n",
       "        8704.75040282,  6222.90907855,  2609.37381015,  7966.09940904,\n",
       "        5169.89033426,  5076.46208315,  6639.32488859,   889.86436191,\n",
       "        1987.32246558,  6338.6169051 ,  4779.64585012,  7163.73948479,\n",
       "        7030.45725834,  5297.69130184,  3163.20572643,  8262.95163065,\n",
       "        9899.77117652,  7278.7294919 ,  5341.44387553,  -197.43649315,\n",
       "        6566.4896495 ,  6472.66699243,  6214.82776959,  5664.38827819,\n",
       "        3990.32715561,  2015.81450619,  7353.40582804,  3302.14022958,\n",
       "        1778.33319385,  5009.94366477,  8553.83894191,  2853.81303285,\n",
       "        6558.52212945,  1903.45905921,  4745.04807275,  4044.16746242,\n",
       "        3664.12126392,  5435.01531527,  4374.33355149,  6064.56200156,\n",
       "        4362.80292305,  4462.66654223,  6147.40543836,  6943.17251439,\n",
       "        5591.04536454,  4015.11953168,  8986.23691689,  5931.89230085,\n",
       "        1691.87658813,  4886.91208091,  1320.88859033,  7812.77338686,\n",
       "        3768.38765453,  7211.74791099,  7851.33322315,  3436.64115139,\n",
       "         234.07667054,  3295.49276578,  7185.83525093,  4116.6188951 ,\n",
       "        4533.54683228,  2576.56892543,  5939.59372536,  2571.06663591,\n",
       "        4323.88576921,  2221.86297958,  4435.75070061,  5518.39639572,\n",
       "        3423.33510745,  3820.40744421,  4911.54972408,  6822.00688009,\n",
       "        8111.61793225,  5703.594923  ,  8878.98312618,  5659.03703393,\n",
       "        6035.49236991,  2632.71715647,  4913.5858462 ,  2017.85631184,\n",
       "        7053.56265162,  4098.09798162,  6300.02572214,  4518.42017323,\n",
       "        8049.72579283,  5972.79119893,  3813.09952241,  3939.2740596 ,\n",
       "        6500.84330447,  5154.93327365,  1741.1817368 ,  5369.7483459 ,\n",
       "        4538.37215839,  4242.77151386,  8143.78090178,  6962.74236316,\n",
       "        5078.92576154,  2848.71091331,  9000.55612899,  5660.46172162,\n",
       "        6551.57108841,  2373.33728709,  7440.3313814 ,  3530.67540112,\n",
       "        3349.54348009,  3744.59871694,  3700.99035809,  1801.97217239,\n",
       "        6892.94882027,  7308.17772959,  1871.54954869,  3122.63131546,\n",
       "        6721.50722734,  3952.10027451,  1094.50723168,  4765.41869674,\n",
       "        5327.3485579 ,  4260.7784882 ,  8264.88838206,  6946.89492646,\n",
       "        3840.75755363,  5786.76457495,  1401.32232475,  5921.09477367,\n",
       "        7169.40712957,  2357.06006609,  4931.58247252,  4247.41444637,\n",
       "       -1102.41755737,  1953.28714678,  6824.95559573,    77.01514237,\n",
       "         518.6935485 ,  6713.73898728,  4984.04623137,  4260.20869706,\n",
       "        4328.93063123,  2574.08457609,  9858.7996051 ,  4400.28766198,\n",
       "        4633.29542357,  3600.34953413,  3887.28412902,  4040.60210018,\n",
       "         -22.12149913,  6877.08845175,  4681.73273402,  5552.28923822,\n",
       "        5088.48146017,  1943.55407455,  1535.16268716,  4840.26182316,\n",
       "        6363.02475788,  7310.56854399,  4440.66608995,  2490.44720276,\n",
       "        6071.71236865,  6547.58199181,  5287.76008897,  4634.58380376,\n",
       "        2413.43543061,  5895.76214468,  3522.77143694,  6271.57486962,\n",
       "        4724.58775318,  4240.7816741 ,  1248.52180265,  4861.66296118,\n",
       "       10139.52753829,  4326.37251075,  4359.40891643,  2347.36096007,\n",
       "        3124.56701448,  7244.29415223,  8183.63537516,  6206.81572964,\n",
       "        2607.23171224,  3853.11650594,  2926.15904024,  3756.49428788,\n",
       "        7218.7184028 ,  5996.59847126,  4779.23607078,  7659.78145703,\n",
       "        4505.83904721,  7646.59973904,  2172.15307496,  9319.92158841,\n",
       "        2295.31578109,  7941.86309071,  1915.28346056,   987.65055974,\n",
       "        2708.98783279,  5346.19436654,  3869.17017   ,  2309.80988239,\n",
       "        1749.26581227,  2243.64839407,   447.88662259,  1329.25951998,\n",
       "        7053.99275413,  3435.41729495,  4931.85423092,  4785.03080905,\n",
       "        7279.17332542,  4228.33692247,  6174.49151729,  6816.46395066,\n",
       "        2919.80418087,  1839.8664651 ,    51.34303631,  3932.51631554,\n",
       "         298.58161133,  8335.98569287,  7411.65084028,  7779.24672853,\n",
       "        6460.55003646,  3669.03219323,   936.13671737,  6444.99309744,\n",
       "        4242.95804551,  3437.75890426,  6002.40377252,  5531.61559238,\n",
       "        4182.19542202,  3654.83455001,  3973.42809173,  6384.38762646,\n",
       "        6984.17272686,  4943.9381844 , 11136.19987097,  6570.8326361 ,\n",
       "        6030.24129504,  3741.18169325,  4086.05346003,  5396.1790927 ,\n",
       "        7381.9473197 ,  5489.72727018,  1602.47510144,  3717.45575686,\n",
       "        8419.99142174,  1319.91008726,  3777.25633996,  1673.86155782,\n",
       "        4167.80766704,  4830.39723062,  6291.33352534,  6166.12032059,\n",
       "        2602.22652769,  5090.10318209,  2214.99263677,  3891.17148345,\n",
       "        5771.62233877,  6047.73509123,  1756.23075323,  7244.61527082,\n",
       "        3820.77561666,  1704.61821573,  1021.42898341,  4180.0723157 ,\n",
       "        3620.86847444,  4933.13229132,  6539.99331749,  7497.67202225,\n",
       "        4646.67052972,  4270.20912753,  6487.33002049,  3217.09979022,\n",
       "        5936.88974457,  2386.84768209,  7530.91522254,  1524.25859571,\n",
       "        4441.75715281,  7320.38923478,  6718.96651596,  6440.08480931,\n",
       "        3219.3996326 ,  3048.31868288,  5472.18417815,  3952.05528292,\n",
       "        4920.70703283,  6035.63920611,  2588.47365769,  4562.77673095,\n",
       "        2283.78463929,  3809.67429477,  3756.86494194,  5116.91966039,\n",
       "        4424.37408512,  8817.46957095,  2287.53687441,  3766.08950158,\n",
       "        4586.55575202,  3445.08544577,  4301.49274412,  5533.34752195,\n",
       "        7130.07331381,  7282.59713621,  2965.9888637 ,  5947.12433004,\n",
       "        4398.44658766,  2454.53171801,  3339.72088578,  5066.96112222,\n",
       "        4659.87264364,  4512.47525033,  3940.55266958,  3641.77204262,\n",
       "        4552.82693446,  6005.22017488,  5417.19295802,  5300.60697671,\n",
       "        5492.38599169,  3800.58831119,  1753.13157129,  6466.24086282,\n",
       "        5392.37228608,  3769.32255432,  6545.47988385,  5982.35130897,\n",
       "        5798.17677858,  7098.62607064,  6254.60940038,  6630.49832209,\n",
       "        8112.12646021,  6560.4266234 ,  3303.36028382,  4101.16385716,\n",
       "        4094.01535359,  3386.02102315,  4040.6709265 ,   785.07938531,\n",
       "        6501.3393825 ,  3514.67094567,  4984.92369989,  3147.9735611 ,\n",
       "        3732.73121947,  4926.59364093,  5028.72400973,  5228.1232324 ,\n",
       "        3449.20793018,  4014.96758224,  8084.48499731,  5224.49840056,\n",
       "        6229.84325295,   866.62580155,  3811.80780805,  3344.07358412,\n",
       "        6002.75195383,  6837.74521419,  6330.71872409,  6439.47099875,\n",
       "        7488.51260001,  4197.5405981 ,  8244.0093913 ,  6623.7055723 ,\n",
       "        4992.5228044 ,  6566.90175225,  5045.58816589,  3956.55892641,\n",
       "        7620.23999362,  5486.5970662 ,  3616.21945299,  3032.19919458,\n",
       "        4165.19956849,  3721.36898834,  1686.3152    ,  5050.09078577,\n",
       "        4727.69270347,  5745.52457075,  5811.01925531,  5878.21070669,\n",
       "        6091.0149344 ,  6158.35988846,  8746.21549795,  1647.21524919,\n",
       "        2225.90884784,  2862.80337208,  9088.20077553,  3708.13082052,\n",
       "        4258.26911995,  3831.50114417,  4838.85461855, -2037.70931355,\n",
       "        4899.28334161,  4556.94725974,  3435.48343576,  2495.39422603,\n",
       "        2612.41105668,  2547.18351123,  5103.38362335,  3020.44533135,\n",
       "        3152.7220251 ,  4424.52561492,  4412.36674252,  2947.20659349,\n",
       "        5848.95856408,  5068.0496594 ,  6768.6324031 ,  2996.93999843,\n",
       "        1945.31458222, 10140.57348344,  7944.44514435,  4048.86713219,\n",
       "        6267.79110925,  4598.46214623,  8337.79080537,  5416.19137289,\n",
       "        6477.36702489,  3298.12223435,  3489.65401141,  4306.3419439 ,\n",
       "        5588.43474853,  6831.04717769,  6606.83468569,  3602.55507976,\n",
       "        8224.06146809,  3469.65875545,  5480.968751  ,  6192.62574367,\n",
       "        6622.92116722,  2654.88658122,  8549.03441686,  2534.74727485,\n",
       "        3195.81055659,  6153.61535006,  4062.60660512,  5872.51769217,\n",
       "        5799.14650606,  6310.3048881 ,  4452.04560206,  6419.54936337,\n",
       "        8473.28938778,  4642.19980115,  4392.48803608,  1467.07588247,\n",
       "        2182.2029297 ,  5759.16804402,  6667.08336047,  5191.9889711 ,\n",
       "        3164.87207566,  3738.71586419,  8363.78583285,  4804.89259179,\n",
       "        2883.87116268,  4925.91104289,  1261.03679469,  6157.64730499,\n",
       "        7485.28409232,  5457.85030403,  7622.10002125,  6399.40250993,\n",
       "        8271.98563933,  3374.92452998,  5913.77568361,  5141.56315878,\n",
       "        4742.62289003,  6205.84231946,  6978.66682261,  4121.69073047,\n",
       "        1812.04538879,   -48.48676355,  5698.67383782,  6119.46371978,\n",
       "        3628.82756582,  3201.49093939,  7600.11544255,  7547.79307391,\n",
       "        3616.15218467,  5220.4511475 ,  3518.28733285,  4282.23962724,\n",
       "        6572.96983023,  2833.4563679 ,  5233.7959973 ,  5820.61725944,\n",
       "       10747.16766877,  7167.87506468,  6165.30553524,  1620.37011681,\n",
       "        5472.73580576,  5035.51463361,  5832.07375237,  3897.80546466,\n",
       "         111.49668117,  6034.09617734,  6566.171682  ,  5128.95122241,\n",
       "        3634.84326134,  5595.11486587,  6162.2329391 ,  3093.14547208,\n",
       "        3857.7966243 ,  5662.57609609, 10309.249213  ,  5269.67499229,\n",
       "        6236.2538906 ,  5407.76052326,  4671.13677985,  4838.28881243,\n",
       "        1442.570709  ,  2854.06977533,  5768.28145956,  4933.91326411,\n",
       "        8062.40460828,  7482.90208782,  3440.98487101,   719.85661331,\n",
       "        6112.51967547,  3697.18262052,  7902.12972402,  4723.75822288,\n",
       "         702.3742039 ,  5415.61325218,  7315.72852695,  1568.28185411,\n",
       "        4291.14762363,  1764.81923749,  5301.95412616,  4952.5001312 ,\n",
       "        4099.02168355,  6972.86084712,  6228.43689625,  2527.89853325,\n",
       "        8325.29717513,  4170.44576539,  6365.79044913,  4752.56979196,\n",
       "        5765.47501257,  4426.17595996,  4135.55109709,  1349.56917315,\n",
       "        5760.24800361,  3127.16939163,  5899.40120827,  5933.24364492,\n",
       "        5242.01275784,  8243.30513368,  4042.80912331,  4848.43913291,\n",
       "        8445.57611616,  2998.70202189,  5955.95383978,  6987.16036574,\n",
       "        3828.19963215,  6734.97565171,   993.93996213,  6081.92731725,\n",
       "        5708.01984152,  5939.03541993,  2493.79896113,  9056.65406008,\n",
       "        5036.56139214,  5467.19701489,  5943.78897992,  7270.7055425 ,\n",
       "        4955.98047392,  6452.96550292,  5167.83373197,  4469.76372416,\n",
       "        5006.99125218,  7079.08064719,  9857.75769379,  4721.45778838,\n",
       "        6433.87868779,  4547.97947081,  6289.30959487,  5109.2301243 ,\n",
       "        5485.5250612 ,  6086.89731102,  6720.01952325,  4441.0810694 ,\n",
       "        6871.89873806,  4820.42693643,  6658.63337863,  4372.71518063,\n",
       "        6908.53475422,  5109.89124221,  6856.30526228,  2182.53041177,\n",
       "        8447.37791872,  5699.5900909 ,  5010.38269881,  3131.63215642,\n",
       "        6863.41216129,  8168.88565493,  2801.1767812 ,  5614.13830802,\n",
       "         -13.16638293,  2501.19779972,  4651.55085836,  4349.7070178 ,\n",
       "        4623.89680817,  5861.5188867 ,  4713.76808795,  5794.9575657 ,\n",
       "        7121.62170516,  5828.27723638,  4534.82516108,  7454.37178863,\n",
       "        6280.83133823,  5812.68578185,  6132.59871527,  4445.72616744,\n",
       "        7022.27565311,   581.03653444,  6332.87740687,  5654.73362217,\n",
       "        4658.79642519,  6033.12032526,  1374.06366223,  2203.34938668,\n",
       "        5736.51307205,  4553.30857309,  5007.23692997,  6138.72741544,\n",
       "        4628.19146489,  6130.32119778,  4385.92254791,  7706.80168752,\n",
       "        6878.42119563,  4644.77800587,  4611.53334504,  5906.70985901,\n",
       "        4519.72806287,  6271.96981839,  -758.57302724,  4198.11304837,\n",
       "        6185.40793369,  5193.6407298 ,  6645.89130345,  5483.80782218,\n",
       "        5399.80970292,  4967.33125318,  4495.22735502,  4630.6958044 ,\n",
       "        4799.84383863,  4345.24411982,  3936.99165158,   531.49859112,\n",
       "        3747.98435478,  3441.85057506,  4918.54643324,  4915.69452572,\n",
       "        9173.57945638,  6580.90854728,  5895.12033097,  7491.75433698,\n",
       "        4767.65753582,  5468.71753806,  4830.44139322,  8527.17618012,\n",
       "        4380.50218435,  9153.77981021,  5562.85306648,  7989.55812535,\n",
       "        4373.29657836,  5165.07406628,  5115.46434734,  4466.51874064,\n",
       "        5821.8841966 ,  6108.29454941,  6274.1512242 ,  5176.85330598,\n",
       "        3877.70256686,  5381.87176918,  5653.05544062,  1531.21678111,\n",
       "        6469.6855889 ,  7012.97285094,  7351.81787847,  5121.77706875,\n",
       "        2794.43789001,  5127.19520656,  3656.94581083,  5018.86495043,\n",
       "        7489.80149678,  4429.92568227,  8570.87215591,  8030.51304547])"
      ]
     },
     "execution_count": 12,
     "metadata": {},
     "output_type": "execute_result"
    }
   ],
   "source": [
    "gelirler"
   ]
  },
  {
   "cell_type": "code",
   "execution_count": 13,
   "id": "d61f527f",
   "metadata": {},
   "outputs": [
    {
     "data": {
      "text/plain": [
       "3915903.1108817197"
      ]
     },
     "execution_count": 13,
     "metadata": {},
     "output_type": "execute_result"
    }
   ],
   "source": [
    "gelirler.var()"
   ]
  },
  {
   "cell_type": "code",
   "execution_count": 14,
   "id": "e3dff689",
   "metadata": {},
   "outputs": [
    {
     "data": {
      "text/plain": [
       "1978.8640961121407"
      ]
     },
     "execution_count": 14,
     "metadata": {},
     "output_type": "execute_result"
    }
   ],
   "source": [
    "gelirler.std()"
   ]
  },
  {
   "cell_type": "code",
   "execution_count": null,
   "id": "350837c2",
   "metadata": {},
   "outputs": [],
   "source": []
  }
 ],
 "metadata": {
  "kernelspec": {
   "display_name": "Python 3 (ipykernel)",
   "language": "python",
   "name": "python3"
  },
  "language_info": {
   "codemirror_mode": {
    "name": "ipython",
    "version": 3
   },
   "file_extension": ".py",
   "mimetype": "text/x-python",
   "name": "python",
   "nbconvert_exporter": "python",
   "pygments_lexer": "ipython3",
   "version": "3.10.13"
  }
 },
 "nbformat": 4,
 "nbformat_minor": 5
}
