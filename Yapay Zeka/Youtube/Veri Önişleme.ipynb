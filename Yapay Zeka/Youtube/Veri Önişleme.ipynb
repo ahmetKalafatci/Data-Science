{
 "cells": [
  {
   "cell_type": "markdown",
   "id": "265c78ac",
   "metadata": {},
   "source": [
    "# 1.Gerekli kütüphanelerin eklenmesi"
   ]
  },
  {
   "cell_type": "code",
   "execution_count": 1,
   "id": "1627af3f",
   "metadata": {},
   "outputs": [],
   "source": [
    "import numpy as np\n",
    "import pandas as pd\n",
    "import matplotlib.pyplot as plt"
   ]
  },
  {
   "cell_type": "markdown",
   "id": "fe7655b0",
   "metadata": {},
   "source": [
    "# 2.Veri setinin pandas'a yüklenmesi"
   ]
  },
  {
   "cell_type": "code",
   "execution_count": 5,
   "id": "275d66d4",
   "metadata": {},
   "outputs": [
    {
     "name": "stdout",
     "output_type": "stream",
     "text": [
      "   Country   Age   Salary Purchased\n",
      "0   France  44.0  72000.0        No\n",
      "1    Spain  27.0  48000.0       Yes\n",
      "2  Germany  30.0  54000.0        No\n",
      "3    Spain  38.0  61000.0        No\n",
      "4  Germany  40.0      NaN       Yes\n",
      "5   France  35.0  58000.0       Yes\n",
      "6    Spain   NaN  52000.0        No\n",
      "7   France  48.0  79000.0       Yes\n",
      "8  Germany  50.0  83000.0        No\n",
      "9   France  37.0  67000.0       Yes\n"
     ]
    }
   ],
   "source": [
    "#dataset=pd.read_csv(\"Data.csv\") \n",
    "#normalde veri seti böyle yükleniyor ama hoca link atmadığı için dataseti elle giricem\n",
    "dataset={\n",
    "    \"Country\":[\"France\",\"Spain\",\"Germany\",\"Spain\",\"Germany\",\"France\",\"Spain\",\"France\",\"Germany\",\"France\"],\n",
    "    \"Age\":[44,27,30,38,40,35,np.nan,48,50,37],\n",
    "    \"Salary\":[72000,48000,54000,61000,np.nan,58000,52000,79000,83000,67000],\n",
    "    \"Purchased\":[\"No\",\"Yes\",\"No\",\"No\",\"Yes\",\"Yes\",\"No\",\"Yes\",\"No\",\"Yes\"]\n",
    "    }\n",
    "df=pd.DataFrame(dataset)\n",
    "print(df)"
   ]
  },
  {
   "cell_type": "markdown",
   "id": "54a53290",
   "metadata": {},
   "source": [
    "# 3. Python ':' Operatorü ve Fonksiyonlar"
   ]
  },
  {
   "cell_type": "code",
   "execution_count": 16,
   "id": "b20ddfd6",
   "metadata": {},
   "outputs": [
    {
     "name": "stdout",
     "output_type": "stream",
     "text": [
      "[['France' 44.0 72000.0 'No']\n",
      " ['Spain' 27.0 48000.0 'Yes']\n",
      " ['Germany' 30.0 54000.0 'No']\n",
      " ['Spain' 38.0 61000.0 'No']\n",
      " ['Germany' 40.0 nan 'Yes']\n",
      " ['France' 35.0 58000.0 'Yes']\n",
      " ['Spain' nan 52000.0 'No']\n",
      " ['France' 48.0 79000.0 'Yes']\n",
      " ['Germany' 50.0 83000.0 'No']\n",
      " ['France' 37.0 67000.0 'Yes']]\n",
      "<class 'numpy.ndarray'>\n",
      "['France' 44.0 72000.0 'No']\n",
      "France\n"
     ]
    }
   ],
   "source": [
    "print(df.values) #veri setini array olarak döndürür\n",
    "print(type(df.values))\n",
    "#indexlere ulaşabiliriz mesela ilk satıra ulaşmak için;\n",
    "print(df.values[0])\n",
    "#direkt değere de ulaşabiliriz mesela ilk satıdaki fransaya ulaşmak için\n",
    "print(df.values[0,0])"
   ]
  },
  {
   "cell_type": "code",
   "execution_count": 19,
   "id": "8be1e409",
   "metadata": {
    "scrolled": true
   },
   "outputs": [
    {
     "name": "stdout",
     "output_type": "stream",
     "text": [
      "[['France' 44.0 72000.0 'No']\n",
      " ['Spain' 27.0 48000.0 'Yes']]\n"
     ]
    }
   ],
   "source": [
    "# : -> range operatörüdür\n",
    "print(df.values[0:2]) # ilk 2 satırı yazdırır"
   ]
  },
  {
   "cell_type": "code",
   "execution_count": 24,
   "id": "4797ac20",
   "metadata": {},
   "outputs": [
    {
     "name": "stdout",
     "output_type": "stream",
     "text": [
      "[['France' 44.0 72000.0 'No']\n",
      " ['Germany' 30.0 54000.0 'No']\n",
      " ['Germany' 40.0 nan 'Yes']\n",
      " ['Spain' nan 52000.0 'No']\n",
      " ['Germany' 50.0 83000.0 'No']]\n"
     ]
    }
   ],
   "source": [
    "print(df.values[0::2]) #0 dan tüm veriler bitene kadar 2şer atlayarak yazdırır"
   ]
  },
  {
   "cell_type": "code",
   "execution_count": 21,
   "id": "e1442421",
   "metadata": {},
   "outputs": [
    {
     "name": "stdout",
     "output_type": "stream",
     "text": [
      "[72000.0 48000.0 54000.0 61000.0 nan 58000.0 52000.0 79000.0 83000.0\n",
      " 67000.0]\n"
     ]
    }
   ],
   "source": [
    "print(df.values[:,2]) #bu işlem ile bütün satırlardaki 2indexe gelen sütunu yazdırır"
   ]
  },
  {
   "cell_type": "code",
   "execution_count": 22,
   "id": "6f865aa7",
   "metadata": {},
   "outputs": [
    {
     "name": "stdout",
     "output_type": "stream",
     "text": [
      "[[72000.0 'No']\n",
      " [48000.0 'Yes']\n",
      " [54000.0 'No']\n",
      " [61000.0 'No']\n",
      " [nan 'Yes']\n",
      " [58000.0 'Yes']\n",
      " [52000.0 'No']\n",
      " [79000.0 'Yes']\n",
      " [83000.0 'No']\n",
      " [67000.0 'Yes']]\n"
     ]
    }
   ],
   "source": [
    "print(df.values[:,2:]) #2. indexteki ve sonrasında gelen sütunları yazdırır"
   ]
  },
  {
   "cell_type": "code",
   "execution_count": 12,
   "id": "a472add7",
   "metadata": {},
   "outputs": [
    {
     "name": "stdout",
     "output_type": "stream",
     "text": [
      "2\n"
     ]
    }
   ],
   "source": [
    "print(df.ndim) #verisetinde kaç boyut olduğunu döndürür"
   ]
  },
  {
   "cell_type": "code",
   "execution_count": 13,
   "id": "1b0b706c",
   "metadata": {},
   "outputs": [
    {
     "name": "stdout",
     "output_type": "stream",
     "text": [
      "40\n"
     ]
    }
   ],
   "source": [
    "print(df.size) # verisetindeki eleman sayısını döndürür"
   ]
  },
  {
   "cell_type": "code",
   "execution_count": 14,
   "id": "175127c2",
   "metadata": {},
   "outputs": [
    {
     "name": "stdout",
     "output_type": "stream",
     "text": [
      "(10, 4)\n"
     ]
    }
   ],
   "source": [
    "print(df.shape) #veri setinin boyutlarını döndürür (satır,sütun)"
   ]
  },
  {
   "cell_type": "code",
   "execution_count": 15,
   "id": "f5a7fb10",
   "metadata": {},
   "outputs": [
    {
     "name": "stdout",
     "output_type": "stream",
     "text": [
      "Country       object\n",
      "Age          float64\n",
      "Salary       float64\n",
      "Purchased     object\n",
      "dtype: object\n"
     ]
    }
   ],
   "source": [
    "print(df.dtypes) #elemanların tipini döndürür"
   ]
  },
  {
   "cell_type": "markdown",
   "id": "ccb387a4",
   "metadata": {},
   "source": [
    "# 4. Veriyi X ve Y olarak bölme"
   ]
  },
  {
   "cell_type": "code",
   "execution_count": 33,
   "id": "ae4e6ab9",
   "metadata": {},
   "outputs": [
    {
     "data": {
      "text/plain": [
       "Country       France\n",
       "Age             44.0\n",
       "Salary       72000.0\n",
       "Purchased         No\n",
       "Name: 0, dtype: object"
      ]
     },
     "execution_count": 33,
     "metadata": {},
     "output_type": "execute_result"
    }
   ],
   "source": [
    "df.iloc[0] #iloc ilk olarak dataframe olarak çeker "
   ]
  },
  {
   "cell_type": "code",
   "execution_count": 35,
   "id": "3f4e8756",
   "metadata": {},
   "outputs": [
    {
     "data": {
      "text/plain": [
       "array(['France', 44.0, 72000.0, 'No'], dtype=object)"
      ]
     },
     "execution_count": 35,
     "metadata": {},
     "output_type": "execute_result"
    }
   ],
   "source": [
    "df.iloc[0].values # bu şekilde dizi haline getirilir"
   ]
  },
  {
   "cell_type": "code",
   "execution_count": 36,
   "id": "6daff9f2",
   "metadata": {},
   "outputs": [
    {
     "name": "stdout",
     "output_type": "stream",
     "text": [
      "[['France' 44.0 72000.0]\n",
      " ['Spain' 27.0 48000.0]\n",
      " ['Germany' 30.0 54000.0]\n",
      " ['Spain' 38.0 61000.0]\n",
      " ['Germany' 40.0 nan]\n",
      " ['France' 35.0 58000.0]\n",
      " ['Spain' nan 52000.0]\n",
      " ['France' 48.0 79000.0]\n",
      " ['Germany' 50.0 83000.0]\n",
      " ['France' 37.0 67000.0]]\n",
      "['No' 'Yes' 'No' 'No' 'Yes' 'Yes' 'No' 'Yes' 'No' 'Yes']\n"
     ]
    }
   ],
   "source": [
    "x=df.iloc[:,:3].values #ilk 3veriyi aldık (%75e %25 bölmek için)\n",
    "y=df.iloc[:,3].values # sadece son sütunu aldık \n",
    "print(x)\n",
    "print(y)"
   ]
  },
  {
   "cell_type": "markdown",
   "id": "15768a68",
   "metadata": {},
   "source": [
    "# 5.Kayıp değerleri doldurma"
   ]
  },
  {
   "cell_type": "code",
   "execution_count": 39,
   "id": "a1f96be9",
   "metadata": {},
   "outputs": [
    {
     "name": "stdout",
     "output_type": "stream",
     "text": [
      "[['France' 44.0 72000.0]\n",
      " ['Spain' 27.0 48000.0]\n",
      " ['Germany' 30.0 54000.0]\n",
      " ['Spain' 38.0 61000.0]\n",
      " ['Germany' 40.0 63777.77777777778]\n",
      " ['France' 35.0 58000.0]\n",
      " ['Spain' 38.77777777777778 52000.0]\n",
      " ['France' 48.0 79000.0]\n",
      " ['Germany' 50.0 83000.0]\n",
      " ['France' 37.0 67000.0]]\n"
     ]
    }
   ],
   "source": [
    "from sklearn.impute import SimpleImputer\n",
    "imputer=SimpleImputer(missing_values=np.nan,strategy='mean') #nan değerleri ortalamaya göre doldurduk\n",
    "#veriyi tanımlayalım;\n",
    "imputer.fit(x[:,1:]) #sadece age ve salary değerlerini aldık çünkü ortalama(mean) sadece sayısal değerleri baz alır\n",
    "x[:,1:]=imputer.transform(x[:,1:])\n",
    "print(x) \n",
    "#nan değerleri mutlaka doldurulmalı yoksa modeli seçemeyiz"
   ]
  },
  {
   "cell_type": "markdown",
   "id": "78052a6f",
   "metadata": {},
   "source": [
    "# 6. Etiket olan değerleri numaralandırma"
   ]
  },
  {
   "cell_type": "markdown",
   "id": "8a93d761",
   "metadata": {},
   "source": [
    "### 6.1 Bağımsız değişkeni numaralandırma"
   ]
  },
  {
   "cell_type": "markdown",
   "id": "daa26fc3",
   "metadata": {},
   "source": [
    "#### OneHotEncoder\n",
    "* 2'den daha fazla sınıf sayılarında kullanılır\n",
    "* Etiketleri ünik olarak ikili sayı sisteminde numaralandırılır\n",
    "\n",
    "* Ülke etiketimiz;\n",
    "    * Fransa:001\n",
    "    * İspanya:010\n",
    "    * Almanya:100"
   ]
  },
  {
   "cell_type": "markdown",
   "id": "de7c6af6",
   "metadata": {},
   "source": [
    "* ( Çok kullanılan işlem değildir)"
   ]
  },
  {
   "cell_type": "code",
   "execution_count": 41,
   "id": "d97db355",
   "metadata": {},
   "outputs": [],
   "source": [
    "from sklearn.compose import ColumnTransformer\n",
    "from sklearn.preprocessing import OneHotEncoder"
   ]
  },
  {
   "cell_type": "code",
   "execution_count": 43,
   "id": "f2e4ec86",
   "metadata": {},
   "outputs": [],
   "source": [
    "ct=ColumnTransformer(transformers=[('encoder',OneHotEncoder(),[0])],remainder='passthrough')\n",
    "x=np.array(ct.fit_transform(x))"
   ]
  },
  {
   "cell_type": "code",
   "execution_count": 44,
   "id": "66036a2c",
   "metadata": {},
   "outputs": [
    {
     "name": "stdout",
     "output_type": "stream",
     "text": [
      "[[1.0 0.0 0.0 44.0 72000.0]\n",
      " [0.0 0.0 1.0 27.0 48000.0]\n",
      " [0.0 1.0 0.0 30.0 54000.0]\n",
      " [0.0 0.0 1.0 38.0 61000.0]\n",
      " [0.0 1.0 0.0 40.0 63777.77777777778]\n",
      " [1.0 0.0 0.0 35.0 58000.0]\n",
      " [0.0 0.0 1.0 38.77777777777778 52000.0]\n",
      " [1.0 0.0 0.0 48.0 79000.0]\n",
      " [0.0 1.0 0.0 50.0 83000.0]\n",
      " [1.0 0.0 0.0 37.0 67000.0]]\n"
     ]
    }
   ],
   "source": [
    "print(x)"
   ]
  },
  {
   "cell_type": "markdown",
   "id": "0e02300e",
   "metadata": {},
   "source": [
    "## 6.2 Bağımlı değişkeni numaralandırma"
   ]
  },
  {
   "cell_type": "markdown",
   "id": "8e77f966",
   "metadata": {},
   "source": [
    "#### LabelEncoder \n",
    "* 2 veya daha az sınıf sayılarında kullanılır\n",
    "* Etiketleri 0 ile sınıf_sayisi-1 aralığında numaralandırılır\n",
    "* sonuç etiketimiz;\n",
    "   * no=0, yes=1"
   ]
  },
  {
   "cell_type": "markdown",
   "id": "1c387751",
   "metadata": {},
   "source": [
    "* ( Çok kullanılan işlem değildir)"
   ]
  },
  {
   "cell_type": "code",
   "execution_count": 47,
   "id": "f6924ca4",
   "metadata": {},
   "outputs": [],
   "source": [
    "from sklearn.preprocessing import LabelEncoder"
   ]
  },
  {
   "cell_type": "code",
   "execution_count": 48,
   "id": "3cb39c55",
   "metadata": {},
   "outputs": [
    {
     "name": "stdout",
     "output_type": "stream",
     "text": [
      "[0 1 0 0 1 1 0 1 0 1]\n"
     ]
    }
   ],
   "source": [
    "le=LabelEncoder()\n",
    "y=le.fit_transform(y)\n",
    "print(y)"
   ]
  },
  {
   "cell_type": "code",
   "execution_count": 49,
   "id": "0fad95c7",
   "metadata": {},
   "outputs": [
    {
     "name": "stdout",
     "output_type": "stream",
     "text": [
      "[[1.0 0.0 0.0 44.0 72000.0]\n",
      " [0.0 0.0 1.0 27.0 48000.0]\n",
      " [0.0 1.0 0.0 30.0 54000.0]\n",
      " [0.0 0.0 1.0 38.0 61000.0]\n",
      " [0.0 1.0 0.0 40.0 63777.77777777778]\n",
      " [1.0 0.0 0.0 35.0 58000.0]\n",
      " [0.0 0.0 1.0 38.77777777777778 52000.0]\n",
      " [1.0 0.0 0.0 48.0 79000.0]\n",
      " [0.0 1.0 0.0 50.0 83000.0]\n",
      " [1.0 0.0 0.0 37.0 67000.0]]\n",
      "[0 1 0 0 1 1 0 1 0 1]\n"
     ]
    }
   ],
   "source": [
    "print(x)\n",
    "print(y)"
   ]
  },
  {
   "cell_type": "markdown",
   "id": "7d915c43",
   "metadata": {},
   "source": [
    "# 7.Veri setini ikiye bölme"
   ]
  },
  {
   "cell_type": "markdown",
   "id": "ad8c52cd",
   "metadata": {},
   "source": [
    "* Matematiksel modeli bulabilmek için verisetini ikiye bölüyoruz"
   ]
  },
  {
   "cell_type": "markdown",
   "id": "2f8ff758",
   "metadata": {},
   "source": [
    "* öğrenme ve test verisinin boyutunu belirleyebiliriz\n",
    "* öğrenme verisi matematiksel modeli bulmaya yarar ve algoritmanın öğrenmesini sağlar\n",
    "* test verisi de bunun doğruluğunu ölçmek için kullanılır\n",
    "* genelde öğrenme %80, test%20 kullanılıyor"
   ]
  },
  {
   "cell_type": "markdown",
   "id": "add792ba",
   "metadata": {},
   "source": [
    "* split fonksiyonu 4 ayrı değişken döndürür;\n",
    "    * X_train öğrenme verisinin bağımısz değişkeni\n",
    "    * y_train öğrenme verisinin bağımlı değişken kısmı\n",
    "    * X_test x verisinin test kısmı\n",
    "    * y_test y verisinin test kısmı"
   ]
  },
  {
   "cell_type": "code",
   "execution_count": 53,
   "id": "9e8d5258",
   "metadata": {},
   "outputs": [],
   "source": [
    "from sklearn.model_selection import train_test_split\n",
    "X_ogren,X_test,y_ogren,y_test = train_test_split(x,y,test_size=0.2) \n",
    "#test size test verisinin boyutunu belirler (%20 olarak belirledik)"
   ]
  },
  {
   "cell_type": "code",
   "execution_count": 54,
   "id": "d629d46c",
   "metadata": {},
   "outputs": [
    {
     "name": "stdout",
     "output_type": "stream",
     "text": [
      "[[0.0 1.0 0.0 30.0 54000.0]\n",
      " [0.0 1.0 0.0 50.0 83000.0]\n",
      " [0.0 0.0 1.0 38.0 61000.0]\n",
      " [0.0 0.0 1.0 27.0 48000.0]\n",
      " [0.0 0.0 1.0 38.77777777777778 52000.0]\n",
      " [0.0 1.0 0.0 40.0 63777.77777777778]\n",
      " [1.0 0.0 0.0 48.0 79000.0]\n",
      " [1.0 0.0 0.0 44.0 72000.0]]\n"
     ]
    }
   ],
   "source": [
    "print(X_ogren)"
   ]
  },
  {
   "cell_type": "code",
   "execution_count": 55,
   "id": "4686fd14",
   "metadata": {},
   "outputs": [
    {
     "name": "stdout",
     "output_type": "stream",
     "text": [
      "[[1.0 0.0 0.0 35.0 58000.0]\n",
      " [1.0 0.0 0.0 37.0 67000.0]]\n"
     ]
    }
   ],
   "source": [
    "print(X_test)"
   ]
  },
  {
   "cell_type": "code",
   "execution_count": 56,
   "id": "67fc3323",
   "metadata": {},
   "outputs": [
    {
     "name": "stdout",
     "output_type": "stream",
     "text": [
      "[0 0 0 1 0 1 1 0]\n"
     ]
    }
   ],
   "source": [
    "print(y_ogren)"
   ]
  },
  {
   "cell_type": "code",
   "execution_count": 57,
   "id": "378d3f7d",
   "metadata": {},
   "outputs": [
    {
     "name": "stdout",
     "output_type": "stream",
     "text": [
      "[1 1]\n"
     ]
    }
   ],
   "source": [
    "print(y_test)"
   ]
  },
  {
   "cell_type": "markdown",
   "id": "afc89944",
   "metadata": {},
   "source": [
    "# 8.Özellikleri Ölçekleme"
   ]
  },
  {
   "cell_type": "markdown",
   "id": "b576792e",
   "metadata": {},
   "source": [
    "* Bütün özelliklerin aynı ölçekte işlem görmesini sağlar\n",
    "* Bazı özelliklerin diğer özellikleri domine etmesinden kaynaklı kullanılır\n",
    "* Bütün değerler aynı aralıkta olur"
   ]
  },
  {
   "cell_type": "markdown",
   "id": "6c1709b3",
   "metadata": {},
   "source": [
    "#### standardisation(standardizasyon)\n",
    "* x(std) = [x-ort(x)] / standart_sapma(x)\n",
    "* Her zaman çalışır ancak normal dağılımlarda kullanılması önerilmez"
   ]
  },
  {
   "cell_type": "markdown",
   "id": "23649584",
   "metadata": {},
   "source": [
    "#### normalisation (Normalleştirme)\n",
    "* x(norm) = [x-min(x)]/[max(x)-min(x)]\n",
    "* Normal dağılımlarda kullanılması önerilir"
   ]
  },
  {
   "cell_type": "markdown",
   "id": "ce148792",
   "metadata": {},
   "source": [
    "#### ÖNEMLİ NOT !!!!!\n",
    "* Özellikleri ölçeklemeyi verisetini öğrenme ve test şeklinde ikiye böldükten sonra sadece öğrenme verisinde uygulamalıyız"
   ]
  },
  {
   "cell_type": "code",
   "execution_count": 58,
   "id": "1cdc5452",
   "metadata": {},
   "outputs": [],
   "source": [
    "from sklearn.preprocessing import StandardScaler"
   ]
  },
  {
   "cell_type": "code",
   "execution_count": 61,
   "id": "fdd9d013",
   "metadata": {},
   "outputs": [],
   "source": [
    "scaler=StandardScaler()"
   ]
  },
  {
   "cell_type": "code",
   "execution_count": 64,
   "id": "af40e6c9",
   "metadata": {},
   "outputs": [],
   "source": [
    "X_ogren[:,3:]=scaler.fit_transform(X_ogren[:,3:]) \n",
    "#fit fonksiyonu hesaplamayı yapar, transfor ise o hesaplamayı taşır\n",
    "X_test[:,3:] = scaler.transform(X_test[:,3:])\n",
    "#test verisinde fitlemeye gerek yok çünkü train kısmında hesaplama yapıldı"
   ]
  },
  {
   "cell_type": "code",
   "execution_count": 63,
   "id": "8fc7ea88",
   "metadata": {},
   "outputs": [
    {
     "name": "stdout",
     "output_type": "stream",
     "text": [
      "[[0.0 1.0 0.0 -1.2597958529291027 -0.8388998277785312]\n",
      " [0.0 1.0 0.0 1.4001836605868916 1.57048509712047]\n",
      " [0.0 0.0 1.0 -0.19580404752270503 -0.25732415625118615]\n",
      " [0.0 0.0 1.0 -1.6587927799565019 -1.3373932605162557]\n",
      " [0.0 0.0 1.0 -0.0923603997748607 -1.0050643053577728]\n",
      " [0.0 1.0 0.0 0.0701939038288944 -0.02654015961335053]\n",
      " [1.0 0.0 0.0 1.134185709235292 1.238156141961987]\n",
      " [1.0 0.0 0.0 0.6021898065320932 0.6565804704346418]]\n",
      "[[1.0 0.0 0.0 -0.5948009745501042 -0.5065708726200484]\n",
      " [1.0 0.0 0.0 -0.32880302319850474 0.24116927648653821]]\n"
     ]
    }
   ],
   "source": [
    "print(X_ogren)\n",
    "print(X_test)"
   ]
  },
  {
   "cell_type": "code",
   "execution_count": null,
   "id": "eb7bda39",
   "metadata": {},
   "outputs": [],
   "source": []
  }
 ],
 "metadata": {
  "kernelspec": {
   "display_name": "Python 3 (ipykernel)",
   "language": "python",
   "name": "python3"
  },
  "language_info": {
   "codemirror_mode": {
    "name": "ipython",
    "version": 3
   },
   "file_extension": ".py",
   "mimetype": "text/x-python",
   "name": "python",
   "nbconvert_exporter": "python",
   "pygments_lexer": "ipython3",
   "version": "3.10.13"
  }
 },
 "nbformat": 4,
 "nbformat_minor": 5
}
