{
 "cells": [
  {
   "cell_type": "markdown",
   "id": "2fdc49a8",
   "metadata": {},
   "source": [
    "* Basit lineer regresyonun çok değişkenli halidir\n",
    "* amaç bağımsız değişkenler(x) ile bağımlı değişken(y) arasındaki ilişkiyi bulmaktır\n",
    "* regresyon modelleri bağımlı değişkenin bağımsız değişken ile nasıl değiştiğini tanımlar\n",
    "\n",
    "* y=b0 + b1*x1 + b2*x2 +....+Xn+é\n",
    "    * y: bağımlı değişken\n",
    "    * x1--xn: bağımsız değişken\n",
    "    * b0:sabit\n",
    "    * b1...bn:eğim katsayısı\n",
    "    * é: model için hata terimi"
   ]
  },
  {
   "cell_type": "markdown",
   "id": "37af2ede",
   "metadata": {},
   "source": [
    "* Çoklu lineer regresyon modelinin kullanılabilmesi için sağlanması gerekenler;\n",
    "    * Bağımllı değişken ile bağımsız değişken arasındaki lineer bağlantı(Linearity)\n",
    "    * çoklu bağlant eksikliği(No Multicollinearity)\n",
    "    * hata terimlerinin normal dağılımda olması\n",
    "    * hata terimlerinin sabit varyans sergilemesi\n",
    "    * hata terimlerinde otokorelasyonun olmaması"
   ]
  },
  {
   "cell_type": "code",
   "execution_count": null,
   "id": "213c2997",
   "metadata": {},
   "outputs": [],
   "source": []
  }
 ],
 "metadata": {
  "kernelspec": {
   "display_name": "Python 3 (ipykernel)",
   "language": "python",
   "name": "python3"
  },
  "language_info": {
   "codemirror_mode": {
    "name": "ipython",
    "version": 3
   },
   "file_extension": ".py",
   "mimetype": "text/x-python",
   "name": "python",
   "nbconvert_exporter": "python",
   "pygments_lexer": "ipython3",
   "version": "3.10.13"
  }
 },
 "nbformat": 4,
 "nbformat_minor": 5
}
